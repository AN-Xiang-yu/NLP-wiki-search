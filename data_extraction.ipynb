{
  "cells": [
    {
      "cell_type": "markdown",
      "metadata": {},
      "source": [
        "# I. Libraries and global settings\n"
      ]
    },
    {
      "cell_type": "code",
      "execution_count": 1,
      "metadata": {
        "id": "vfxAURVjMQ2w"
      },
      "outputs": [],
      "source": [
        "# standard imports\n",
        "import math\n",
        "import re\n",
        "import warnings\n",
        "\n",
        "# intalled imports\n",
        "import contractions\n",
        "import matplotlib.pyplot as plt\n",
        "import nltk\n",
        "import numpy as np\n",
        "import pandas as pd\n",
        "\n",
        "from collections import defaultdict\n",
        "from tqdm import tqdm\n",
        "from gensim.corpora.dictionary import Dictionary\n",
        "from gensim.utils import simple_preprocess\n",
        "from nltk import word_tokenize\n",
        "from nltk.corpus import stopwords\n",
        "from nltk.stem import PorterStemmer, WordNetLemmatizer\n",
        "from rank_bm25 import BM25Okapi\n",
        "from sentence_transformers import SentenceTransformer, util\n",
        "# nltk.download('punkt')"
      ]
    },
    {
      "cell_type": "code",
      "execution_count": 2,
      "metadata": {},
      "outputs": [],
      "source": [
        "# global settings\n",
        "# hide the warning information\n",
        "warnings.filterwarnings(\"ignore\", category=DeprecationWarning)\n",
        "warnings.filterwarnings(\"ignore\", category=FutureWarning)\n",
        "warnings.filterwarnings(\"ignore\", category=UserWarning)\n",
        "pd.set_option(\"display.max_colwidth\", None)"
      ]
    },
    {
      "cell_type": "markdown",
      "metadata": {},
      "source": [
        "# II. Classes\n"
      ]
    },
    {
      "cell_type": "markdown",
      "metadata": {},
      "source": [
        "## II.1. PipelinePreprocessing\n"
      ]
    },
    {
      "cell_type": "code",
      "execution_count": 43,
      "metadata": {},
      "outputs": [],
      "source": [
        "class PipelinePreprocessing():\n",
        "    \"\"\"This class is used to preprocess the documents in the pipeline.\n",
        "\n",
        "    Attributes:\n",
        "        _stemmer (PorterStemmer): The stemmer used to stem the words in the documents.\n",
        "        _lemmatizer (WordNetLemmatizer): The lemmatizer used to lemmatize the words in the documents.\n",
        "    \"\"\"\n",
        "\n",
        "    def __init__(self):\n",
        "        self._stemmer = PorterStemmer()\n",
        "        self._lemmatizer = WordNetLemmatizer()\n",
        "\n",
        "    def _strip_html(self, doc: str) -> str:\n",
        "        \"\"\"Strip the html/htmls of the doc\n",
        "\n",
        "        Args:        \n",
        "            doc: the doc\n",
        "\n",
        "        Returns:\n",
        "            stripped_doc: the doc striped\n",
        "        \"\"\"\n",
        "        # delete all the doc of http / https\n",
        "        stripped_doc = re.sub(r\"https?://\\S+\", \"\", doc)\n",
        "        return stripped_doc\n",
        "\n",
        "    def _constractions_fix(self, doc: str) -> str:\n",
        "        \"\"\"Expand common English abbreviations and slang.\n",
        "\n",
        "        Args:\n",
        "            doc: the doc to be processed\n",
        "\n",
        "        Returns:\n",
        "            doc_cp: the doc processed\n",
        "        \"\"\"\n",
        "        # expand common English abbreviations and slang\n",
        "        doc_cp = contractions.fix(doc)\n",
        "\n",
        "        return doc_cp\n",
        "\n",
        "    def _remove_stop_words(self, doc: str) -> str:\n",
        "        \"\"\"Remove the commonly used words from the doc\n",
        "\n",
        "        Args:\n",
        "            doc: the doc to be processed\n",
        "\n",
        "        Returns:\n",
        "            doc_p: the doc processed\n",
        "        \"\"\"\n",
        "        # initialization\n",
        "        doc_r = doc.split()\n",
        "        # get all the commonly used words from nltk stopwords\n",
        "        stop_words = stopwords.words(\"english\")\n",
        "        # remove the commonly used words from the doc\n",
        "        doc_r = [word for word in doc_r if word not in stop_words]\n",
        "        # join the doc\n",
        "        doc_r = \" \".join(doc_r)\n",
        "\n",
        "        return doc_r\n",
        "\n",
        "    def _simple_preprocess_and_join(self, doc: str) -> str:\n",
        "        \"\"\"Use simple_preprocess of gensim to do some simple preprocessing. With lower and remove punctuation.\n",
        "\n",
        "        Args:\n",
        "            doc: the doc to be processed\n",
        "\n",
        "        Returns:\n",
        "            doc_cp: the doc processed\n",
        "        \"\"\"\n",
        "        # tokenize the doc\n",
        "        doc_cp = \" \".join(simple_preprocess(doc, deacc=True))\n",
        "\n",
        "        return doc_cp\n",
        "\n",
        "    def _lematize(self, doc: str) -> str:\n",
        "        \"\"\"Extract root words of the doc\n",
        "\n",
        "        Args: \n",
        "            doc: the doc to be processed\n",
        "\n",
        "        Returns:\n",
        "            doc_l: the doc processed\n",
        "        \"\"\"\n",
        "        # initialization\n",
        "        doc_p = doc.split()\n",
        "        # extract root words of the doc\n",
        "        doc_p = [self._lemmatizer.lemmatize(w) for w in doc_p]\n",
        "        # join the doc\n",
        "        doc_p = \" \".join(doc_p)\n",
        "\n",
        "        return doc_p\n",
        "\n",
        "    def _re_sub_convert_multiple_spaces(self, doc: str) -> str:\n",
        "        \"\"\"Convert multiple spaces to 1 space.\n",
        "\n",
        "        Args:\n",
        "            doc: the doc to be processed\n",
        "\n",
        "        Returns:\n",
        "            doc_cp: the doc processed\n",
        "        \"\"\"\n",
        "        # convert multiple spaces to 1 space\n",
        "        doc_cp = re.sub(\" +\", \" \", doc)\n",
        "\n",
        "        return doc_cp\n",
        "\n",
        "    def _re_sub_remove_spaces(self, doc: str) -> str:\n",
        "        \"\"\"Remove spaces or newlines from the beginning and end of a string.\n",
        "\n",
        "        Args:\n",
        "            doc: the doc to be processed\n",
        "\n",
        "        Returns:\n",
        "            doc_cp: the doc processed\n",
        "        \"\"\"\n",
        "        # remove spaces or newlines from the beginning and end of a string\n",
        "        doc_cp = doc.strip()\n",
        "\n",
        "        return doc_cp\n",
        "\n",
        "    def _re_sub_transform_letters(self, doc: str) -> str:\n",
        "        \"\"\"Transform the letters which appears than 3 times into 3 times.\n",
        "\n",
        "        Args:\n",
        "            doc: the doc to be processed\n",
        "\n",
        "        Returns:\n",
        "            doc_cp: the doc processed\n",
        "        \"\"\"\n",
        "        # transform the letters which appears than 3 times into 3 times\n",
        "        doc_cp = re.sub(r'(.)\\1{3,}', r'\\1\\1\\1', doc)\n",
        "\n",
        "        return doc_cp\n",
        "\n",
        "    def _stem_text(self, doc: str) -> str:\n",
        "        \"\"\"Stem the words in the document.\n",
        "\n",
        "        Args:\n",
        "            doc: the document to be processed\n",
        "\n",
        "        Returns:\n",
        "            doc_stemmed: the stemmed document\n",
        "        \"\"\"\n",
        "        # tokenize the document\n",
        "        doc_tokens = doc.split()\n",
        "\n",
        "        # stem each word in the document\n",
        "        doc_stemmed = [self._stemmer.stem(word) for word in doc_tokens]\n",
        "\n",
        "        # join the stemmed words back into a string\n",
        "        doc_stemmed = \" \".join(doc_stemmed)\n",
        "\n",
        "        return doc_stemmed\n",
        "\n",
        "    def _normalize_document(self, doc: str) -> str:\n",
        "        \"\"\"Normalize the document by removing punctuation, numbers, and newline characters.\n",
        "\n",
        "        Args:\n",
        "            doc (str): _description_\n",
        "\n",
        "        Returns:\n",
        "            str: _description_\n",
        "        \"\"\"\n",
        "        # remove punctuation\n",
        "        doc_cp = re.sub(r'[^\\w\\s]', '', doc)\n",
        "\n",
        "        # only alphabets and numerics\n",
        "        doc_cp = re.sub(r'\\d+', '', doc_cp)\n",
        "\n",
        "        # replace newline with space\n",
        "        doc_cp = doc_cp.replace('\\n', ' ')\n",
        "\n",
        "        return doc_cp\n",
        "\n",
        "    def _specific_preprocess(self, doc: str) -> str:\n",
        "        \"\"\"This function is used to preprocess the document in a specific way.\n",
        "\n",
        "        Args:\n",
        "            doc: the document to be processed\n",
        "\n",
        "        Returns:\n",
        "            doc_cp: the processed document\n",
        "        \"\"\"\n",
        "        # remove the citation needed\n",
        "        doc_cp = doc.replace(\"citation needed\", \"\")\n",
        "\n",
        "        # remove [number] strings, brackets\n",
        "        doc_cp = re.sub(r'\\[\\d+\\]', '', doc_cp)\n",
        "\n",
        "        # remove [page needed] strings\n",
        "        doc_cp = re.sub(r'\\[page needed\\]', '', doc_cp)\n",
        "\n",
        "        return doc_cp\n",
        "\n",
        "    def pre_process_document(self, doc: str) -> str:\n",
        "        \"\"\"Pre-processes a document by removing stopwords, lemmatizing, and removing punctuation.\n",
        "\n",
        "        Args:\n",
        "            doc: A string representing a document.\n",
        "\n",
        "        Returns:\n",
        "            str: The pre-processed document.\n",
        "        \"\"\"\n",
        "        # strip html\n",
        "        doc_cp = self._strip_html(doc)\n",
        "        # preprocess the doc in a specific way\n",
        "        doc_cp = self._specific_preprocess(doc_cp)\n",
        "        # expand common English abbreviations and slang\n",
        "        doc_cp = self._constractions_fix(doc_cp)\n",
        "        # use simple_preprocess of gensim to do some simple preprocessing. With lower and remove punctuation.\n",
        "        doc_cp = self._simple_preprocess_and_join(doc_cp)\n",
        "        # remove stop words\n",
        "        doc_cp = self._remove_stop_words(doc_cp)\n",
        "\n",
        "        # lemmatize the doc, transform the words to original form\n",
        "        doc_cp = self._lematize(doc_cp)\n",
        "        # stem the doc, keep only the root of the words\n",
        "        doc = self._stem_text(doc)\n",
        "\n",
        "        # convert multiple spaces to 1 space\n",
        "        doc_cp = self._re_sub_convert_multiple_spaces(doc_cp)\n",
        "        # remove spaces or newlines from the beginning and end of a string\n",
        "        doc_cp = self._re_sub_remove_spaces(doc_cp)\n",
        "        # transform the letters which appears than 3 times into 3 times\n",
        "        doc_cp = self._re_sub_transform_letters(doc_cp)\n",
        "\n",
        "        # normalize the doc\n",
        "        doc_cp = self._normalize_document(doc_cp)\n",
        "\n",
        "        return doc_cp"
      ]
    },
    {
      "cell_type": "markdown",
      "metadata": {},
      "source": [
        "## II.2. EmbeddingComputer\n"
      ]
    },
    {
      "cell_type": "code",
      "execution_count": 44,
      "metadata": {},
      "outputs": [],
      "source": [
        "class EmbeddingComputer():\n",
        "    \"\"\"This class is used to compute the embedding of the text and the cosinus similarity of the text.\n",
        "\n",
        "    Attributes:\n",
        "        _sentence_transformer_model (SentenceTransformer): The sentence transformer model used to compute the embedding of the text.\n",
        "        _pipeline (PipelinePreprocessing): The pipeline used to preprocess the documents.\n",
        "    \"\"\"\n",
        "\n",
        "    def __init__(self):\n",
        "        self._sentence_transformer_model = SentenceTransformer(\n",
        "            \"paraphrase-multilingual-mpnet-base-v2\")\n",
        "        self._pipeline = PipelinePreprocessing()\n",
        "\n",
        "    def compute_embedding(self, text: str) -> list:\n",
        "        \"\"\"Compute the embedding of the text\n",
        "\n",
        "        Args:\n",
        "            text: the text to be computed\n",
        "        Returns:\n",
        "            embedding: the embedding of the text\n",
        "        \"\"\"\n",
        "        # compute the embedding of the text\n",
        "        embedding = self._sentence_transformer_model.encode(text)\n",
        "\n",
        "        return embedding\n",
        "\n",
        "    def compute_cos_sim(self, embedding1: str, embedding2: str) -> float:\n",
        "        \"\"\"Compute the cosinus similarity of the text\n",
        "\n",
        "        Args:\n",
        "            embedding1: the embedding of the text\n",
        "            embedding2: the embedding of the another text\n",
        "\n",
        "        Returns:\n",
        "            cos_sim: the cosinus similarity of the text\n",
        "        \"\"\"\n",
        "        # compute the cosinus similarity of the texts\n",
        "        cos_sim = util.pytorch_cos_sim(\n",
        "            embedding1, embedding2\n",
        "        )\n",
        "\n",
        "        return cos_sim"
      ]
    },
    {
      "cell_type": "markdown",
      "metadata": {},
      "source": [
        "## II.3. TF-IDF\n"
      ]
    },
    {
      "cell_type": "code",
      "execution_count": 45,
      "metadata": {},
      "outputs": [],
      "source": [
        "class TD_IDF():\n",
        "    \"\"\"This class is used to compute the TF-IDF of the text.\n",
        "    \"\"\"\n",
        "\n",
        "    def __init__(self):\n",
        "        pass\n",
        "\n",
        "    def _create_frequency_matrix(self, sentences: list) -> dict:\n",
        "        \"\"\"Creates a frequency matrix for the sentences\n",
        "\n",
        "        Args:\n",
        "            sentences: the sentences\n",
        "\n",
        "        Returns:\n",
        "            frequency_matrix: the frequency matrix\n",
        "        \"\"\"\n",
        "        # initialization\n",
        "        frequency_matrix = {}\n",
        "\n",
        "        # iterate through the sentences\n",
        "        for index, sent in enumerate(sentences):\n",
        "            # counts frequencies of words in every sentence\n",
        "            freq_table = {}\n",
        "            words = word_tokenize(sent)\n",
        "\n",
        "            # iterate through the words\n",
        "            for word in words:\n",
        "                if word not in freq_table:\n",
        "                    freq_table[word] = 0\n",
        "                freq_table[word] += 1\n",
        "\n",
        "            # save frequencies as sent -> word_frequencies\n",
        "            frequency_matrix[index] = freq_table\n",
        "\n",
        "        return frequency_matrix\n",
        "\n",
        "    def _create_tf_matrix(self, freq_matrix: dict) -> dict:\n",
        "        \"\"\"Creates a term frequency matrix\n",
        "\n",
        "        Args:\n",
        "            freq_matrix: the frequency matrix\n",
        "\n",
        "        Returns:\n",
        "            tf_matrix: the term frequency matrix\n",
        "        \"\"\"\n",
        "        # initialization\n",
        "        tf_matrix = {}\n",
        "\n",
        "        # iterate through the frequency matrix\n",
        "        for sent, f_table in freq_matrix.items():\n",
        "            # counts words in every sentence\n",
        "            tf_table = {}\n",
        "\n",
        "            # count words in a sentence\n",
        "            count_words_in_sentence = len(f_table)\n",
        "\n",
        "            # iterate through the frequency table\n",
        "            for word, count in f_table.items():\n",
        "                tf_table[word] = count / count_words_in_sentence\n",
        "\n",
        "            # save the term frequency table\n",
        "            tf_matrix[sent] = tf_table\n",
        "\n",
        "        return tf_matrix\n",
        "\n",
        "    def _create_documents_per_words(self, freq_matrix: dict) -> dict:\n",
        "        \"\"\"Creates a dictionary of documents per words\n",
        "\n",
        "        Args:\n",
        "            freq_matrix: the frequency matrix\n",
        "\n",
        "        Returns:\n",
        "            word_per_doc_table: the dictionary of documents per words\n",
        "        \"\"\"\n",
        "        # initialization\n",
        "        word_per_doc_table = {}\n",
        "\n",
        "        # iterate through the frequency matrix\n",
        "        for _, f_table in freq_matrix.items():\n",
        "            for word, _ in f_table.items():\n",
        "                if word in word_per_doc_table:\n",
        "                    word_per_doc_table[word] += 1\n",
        "                else:\n",
        "                    word_per_doc_table[word] = 1\n",
        "\n",
        "        return word_per_doc_table\n",
        "\n",
        "    def _create_idf_matrix(self, freq_matrix: dict, count_doc_per_words: dict, total_documents: int) -> dict:\n",
        "        \"\"\"Creates an inverse document frequency matrix\n",
        "\n",
        "        Args:\n",
        "            freq_matrix: the frequency matrix\n",
        "            count_doc_per_words: the dictionary of documents per words\n",
        "            total_documents: the total number of documents\n",
        "\n",
        "        Returns:\n",
        "            idf_matrix: the inverse document frequency matrix\n",
        "        \"\"\"\n",
        "        # initialization\n",
        "        idf_matrix = {}\n",
        "\n",
        "        # iterate through the frequency matrix\n",
        "        for sent, f_table in freq_matrix.items():\n",
        "            idf_table = {}\n",
        "\n",
        "            # iterate through the frequency table\n",
        "            for word in f_table.keys():\n",
        "                idf_table[word] = math.log10(\n",
        "                    total_documents / float(count_doc_per_words[word]))\n",
        "\n",
        "            idf_matrix[sent] = idf_table\n",
        "\n",
        "        return idf_matrix\n",
        "\n",
        "    def _create_tf_idf_matrix(self, tf_matrix: dict, idf_matrix: dict) -> dict:\n",
        "        \"\"\"Creates a TF-IDF matrix\n",
        "\n",
        "        Args:\n",
        "            tf_matrix: the term frequency matrix\n",
        "            idf_matrix: the inverse document frequency matrix\n",
        "\n",
        "        Returns:\n",
        "            tf_idf_matrix: the TF-IDF matrix\n",
        "        \"\"\"\n",
        "        # initialization\n",
        "        tf_idf_matrix = {}\n",
        "\n",
        "        # iterate through the tf matrix and idf matrix\n",
        "        for (sent1, f_table1), (_, f_table2) in zip(tf_matrix.items(), idf_matrix.items()):\n",
        "            # counts the tf-idf value\n",
        "            tf_idf_table = {}\n",
        "            # iterate through the frequency table\n",
        "            for (word1, value1), (_, value2) in zip(f_table1.items(),\n",
        "                                                    f_table2.items()):  # here, keys are the same in both the table\n",
        "                tf_idf_table[word1] = float(value1 * value2)\n",
        "            # save the tf-idf table\n",
        "            tf_idf_matrix[sent1] = tf_idf_table\n",
        "\n",
        "        return tf_idf_matrix\n",
        "\n",
        "    def _get_tf_idf_matrix(self, sentences: list) -> dict:\n",
        "        \"\"\"Get the TF-IDF matrix of the sentences\n",
        "\n",
        "        Args:\n",
        "            sentences: the sentences to be processed\n",
        "\n",
        "        Returns:\n",
        "            tf_idf_matrix: the TF-IDF matrix of the sentences\n",
        "        \"\"\"\n",
        "        # create the frequency matrix\n",
        "        frequency_matrix = self._create_frequency_matrix(sentences)\n",
        "        # create the term frequency matrix\n",
        "        tf_matrix = self._create_tf_matrix(frequency_matrix)\n",
        "        # create the dictionary of documents per words\n",
        "        count_doc_per_words = self._create_documents_per_words(\n",
        "            frequency_matrix)\n",
        "        # create the inverse document frequency matrix\n",
        "        idf_matrix = self._create_idf_matrix(\n",
        "            frequency_matrix, count_doc_per_words, len(sentences))\n",
        "        # create the TF-IDF matrix\n",
        "        tf_idf_matrix = self._create_tf_idf_matrix(tf_matrix, idf_matrix)\n",
        "\n",
        "        return tf_idf_matrix\n",
        "\n",
        "    def _score_ngrams(self, tf_idf_matrix: dict, ngram_size: int) -> dict:\n",
        "        \"\"\"Score a sentence by its word's TF\n",
        "        Basic algorithm: adding the TF frequency of every non-stop word in a sentence divided by total no of words in a sentence.\n",
        "\n",
        "        Args:\n",
        "            tf_idf_matrix: the TF-IDF matrix\n",
        "            ngram_size: the size of the ngram\n",
        "\n",
        "        Returns:\n",
        "            ngramValue: the value of the ngram\n",
        "        \"\"\"\n",
        "        # initialization\n",
        "        ngramValue = {}\n",
        "\n",
        "        # get the gram name based on the ngram size\n",
        "        if ngram_size == 3:\n",
        "            gram = \"trigrams\"\n",
        "        elif ngram_size == 2:\n",
        "            gram = \"2grams\"\n",
        "        else:\n",
        "            gram = \"4grams\"\n",
        "\n",
        "        # iterate through the tf-idf matrix\n",
        "        for index, f_table in tf_idf_matrix.items():\n",
        "            total_score_per_ngram = 0\n",
        "            ngramValue[index] = {}\n",
        "            for ngram in df[gram].iloc[index]:\n",
        "                for word in ngram:\n",
        "                    total_score_per_ngram += f_table[word]\n",
        "\n",
        "                ngramValue[index][ngram] = total_score_per_ngram\n",
        "\n",
        "        return ngramValue\n",
        "\n",
        "    def create_index_with_tf_idf(self, df: pd.DataFrame) -> pd.DataFrame:\n",
        "        \"\"\"Create the index with TF-IDF\n",
        "\n",
        "        Args:\n",
        "            df: the original dataframe\n",
        "\n",
        "        Returns:\n",
        "            df: the dataframe with the index of TF-IDF\n",
        "        \"\"\"\n",
        "        tf_idf_matrix = self._get_tf_idf_matrix(df[\"filtered_paragraph\"])\n",
        "        for ngram_size in [3]:\n",
        "            print(ngram_size)\n",
        "            max_ngram = []\n",
        "            ngram_tfidf = self._score_ngrams(tf_idf_matrix, ngram_size)\n",
        "\n",
        "            for _, ngram in ngram_tfidf.items():\n",
        "                # Find the trigram with the maximum value in each group of ngram\n",
        "                max_trigram = max(ngram, key=ngram.get)\n",
        "\n",
        "                # Store the result\n",
        "                max_ngram.append(max_trigram)\n",
        "\n",
        "            # max_ngram now contains the trigram with the highest value for each index\n",
        "            df[f\"{ngram_size}gram_tf_idf\"] = max_ngram\n",
        "\n",
        "        return df"
      ]
    },
    {
      "cell_type": "markdown",
      "metadata": {},
      "source": [
        "## II.4. BM25\n"
      ]
    },
    {
      "cell_type": "code",
      "execution_count": 46,
      "metadata": {},
      "outputs": [],
      "source": [
        "class BM25(object):\n",
        "    \"\"\"This class is used to compute the BM25 of the text.\n",
        "\n",
        "    Attributes:\n",
        "        _dataframe (pd.DataFrame): The dataframe\n",
        "        _docs (list): The list of documents\n",
        "        _dict (Dictionary): The dictionary\n",
        "        _inverted_index (dict): The inverted index which is used to find the relevant documents\n",
        "        _corpus (list): The corpus\n",
        "        _avgdl (float): The average document length of the corpus\n",
        "        _k1 (float): The k1 which is used to control the term frequency normalization\n",
        "        _b (float): The b which is used to control the length normalization\n",
        "        _epsilon (float): The epsilon\n",
        "        _idfs (dict): The idfs of the words\n",
        "        _average_idf (float): The average idf of the words\n",
        "    \"\"\"\n",
        "\n",
        "    def __init__(self, dataframe: pd.DataFrame, column_based: str = \"index\", columns_used_to_rich_index: list = None, k1: float = 1.5, b: float = 0.75, epsilon: float = 0.25):\n",
        "        \"\"\"\n",
        "        Args:\n",
        "            dataframe: the dataframe\n",
        "            column_based: the based column used to compute the BM25\n",
        "            columns_used_to_rich_index: the text columns\n",
        "            k1: the k1\n",
        "            b: the b, which means the influence of the length of the document to the score, the larger the b, the more the length of the document will influence the score\n",
        "            epsilon: the epsilon\n",
        "        \"\"\"\n",
        "        # combine the target columns used to compute the BM25\n",
        "        self._dataframe = dataframe.copy()\n",
        "        if columns_used_to_rich_index is not None:\n",
        "            for column in columns_used_to_rich_index:\n",
        "                self._dataframe[column_based] += dataframe[column].fillna('')\n",
        "        self._dataframe[column_based] = self._dataframe[column_based].apply(\n",
        "            lambda x: \" \".join(set(x.split())))\n",
        "\n",
        "        # preprocess the documents\n",
        "        self._docs = self._dataframe[column_based].apply(\n",
        "            lambda x: word_tokenize(x.lower())).tolist()\n",
        "\n",
        "        # create dictionary\n",
        "        self._dict = Dictionary(self._docs)\n",
        "\n",
        "        # create inverted index\n",
        "        self._inverted_index = self._create_inverted_index()\n",
        "\n",
        "        # compute corpus\n",
        "        self._corpus = [\n",
        "            {id: cnt for id, cnt in self._dict.doc2bow(doc)} for doc in self._docs]\n",
        "        self._avgdl = sum(len(doc) for doc in self._docs) / len(self._docs)\n",
        "\n",
        "        # set parameters\n",
        "        self._k1 = k1\n",
        "        self._b = b\n",
        "        self._epsilon = epsilon\n",
        "\n",
        "        # compute idfs\n",
        "        self._idfs = {id: math.log(len(self._docs) - n + 0.5) - math.log(n + 0.5)\n",
        "                      for id, n in self._dict.dfs.items()}\n",
        "        self._average_idf = sum(self._idfs.values()) / len(self._idfs)\n",
        "\n",
        "    def _create_inverted_index(self):\n",
        "        \"\"\"Create the inverted index\n",
        "\n",
        "        Returns:\n",
        "            inverted_index: the inverted index\n",
        "        \"\"\"\n",
        "        # initialization\n",
        "        inverted_index = defaultdict(set)\n",
        "\n",
        "        # iterate through the documents\n",
        "        for doc_id, doc in enumerate(self._docs):\n",
        "            for word in doc:\n",
        "                inverted_index[word].add(doc_id)\n",
        "\n",
        "        return inverted_index\n",
        "\n",
        "    def _bm25(self, id: int, document: dict) -> float:\n",
        "        \"\"\"Compute the BM25 score\n",
        "\n",
        "        Args:\n",
        "            id: the id\n",
        "            document: the document\n",
        "\n",
        "        Returns:\n",
        "            score: the score\n",
        "        \"\"\"\n",
        "        # compute the BM25 score\n",
        "        if id not in document:\n",
        "            return 0\n",
        "\n",
        "        # compute the BM25 score\n",
        "        idf = self._idfs[id]\n",
        "        if idf <= 0:\n",
        "            idf = self._epsilon * self._average_idf\n",
        "        f = document[id]\n",
        "        return idf * f * (self._k1 + 1) / (f + self._k1 * (1 - self._b + self._b * len(document) / self._avgdl))\n",
        "\n",
        "    def get_scores(self, query: str) -> list:\n",
        "        \"\"\"Get the scores of the query\n",
        "\n",
        "        Args:\n",
        "            query: the query\n",
        "\n",
        "        Returns:\n",
        "            scores: the scores\n",
        "        \"\"\"\n",
        "        # initialization\n",
        "        scores = [0] * len(self._docs)\n",
        "        query_doc = self._dict.doc2bow(word_tokenize(query.lower()))\n",
        "\n",
        "        # use inverted index to find relevant documents\n",
        "        relevant_documents = set()\n",
        "        for id, _ in query_doc:\n",
        "            # find relevant documents\n",
        "            relevant_documents.update(\n",
        "                self._inverted_index.get(self._dict[id], set()))\n",
        "\n",
        "        for doc_id in relevant_documents:\n",
        "            # compute the score\n",
        "            document = self._corpus[doc_id]\n",
        "            score = sum(self._bm25(id, document) *\n",
        "                        cnt for id, cnt in query_doc)\n",
        "            scores[doc_id] = score\n",
        "\n",
        "        # normalize the scores to be between 0 and 1\n",
        "        socre_norm = []\n",
        "        max_score = max(scores)\n",
        "        min_score = min(scores)\n",
        "        for score in scores:\n",
        "            score = (score - min_score) / (max_score - min_score)\n",
        "            socre_norm.append(score)\n",
        "\n",
        "        return socre_norm"
      ]
    },
    {
      "cell_type": "markdown",
      "metadata": {},
      "source": [
        "## II.5. SearchEngine\n"
      ]
    },
    {
      "cell_type": "code",
      "execution_count": 61,
      "metadata": {},
      "outputs": [],
      "source": [
        "class SearchEngine():\n",
        "    \"\"\"This class is used to search the relevant documents with the query.\n",
        "\n",
        "    Attributes:\n",
        "        _pipeline_preprocessing (PipelinePreprocessing): The pipeline used to preprocess the documents.\n",
        "        _df (pd.DataFrame): The dataframe\n",
        "        _bm25 (BM25): The BM25 algorithm\n",
        "        _embedding_computer (EmbeddingComputer): The embedding computer\n",
        "        COEF_BM25 (float): The coefficient of BM25\n",
        "        COEF_COS_SIM (float): The coefficient of cosinus similarity\n",
        "    \"\"\"\n",
        "\n",
        "    def __init__(self, df: pd.DataFrame):\n",
        "        \"\"\"Initialization\n",
        "\n",
        "        Args:\n",
        "            df: the dataframe of the documents where the search is performed\n",
        "        \"\"\"\n",
        "        self._pipeline_preprocessing = PipelinePreprocessing()\n",
        "        self._df = df\n",
        "        self._bm25 = BM25(df)\n",
        "        self._embedding_computer = EmbeddingComputer()\n",
        "        self.COEF_BM25 = 0.5\n",
        "        self.COEF_COS_SIM = 1 - self.COEF_BM25\n",
        "\n",
        "    def reset_search_index(self, columns_used_to_rich_index: list):\n",
        "        self._bm25 = BM25(\n",
        "            self._df, columns_used_to_rich_index=columns_used_to_rich_index)\n",
        "\n",
        "    def _search_with_bm25(self, query: str) -> dict:\n",
        "        \"\"\"Search the index with the query using BM25 algorithm\n",
        "\n",
        "        Args:\n",
        "            query: the query\n",
        "            top_n: the number of results to return\n",
        "\n",
        "        Returns:\n",
        "            results: the search results\n",
        "        \"\"\"\n",
        "        # pre-process the query\n",
        "        query_preprocessed = self._pipeline_preprocessing.pre_process_document(\n",
        "            query)\n",
        "\n",
        "        # score the results\n",
        "        bm25_scores = self._bm25.get_scores(\n",
        "            query_preprocessed)\n",
        "\n",
        "        # make the scores as a dictionary\n",
        "        scores_dict = dict(zip(self._df.index, bm25_scores))\n",
        "\n",
        "        return scores_dict\n",
        "\n",
        "    def _search_with_cos_sim(self, query: str, embedding_column_name:  str = \"index_embedding\") -> dict:\n",
        "        \"\"\"Search the index with the query using cosinus similarity\n",
        "\n",
        "        Args:\n",
        "            query: the query\n",
        "            top_n: the number of results to return\n",
        "            embedding_column_name: the name of the column which contains the embeddings\n",
        "\n",
        "        Returns:\n",
        "            results: the search results\n",
        "        \"\"\"\n",
        "        # initialization\n",
        "        cos_sims_score = {}\n",
        "\n",
        "        # pre-process the query\n",
        "        query_preprocessed = self._pipeline_preprocessing.pre_process_document(\n",
        "            query)\n",
        "        query_preprocessed_embedding = self._embedding_computer.compute_embedding(\n",
        "            query_preprocessed)\n",
        "        # compute the cosinus similarity of the query with the paragraphs\n",
        "        for index, row in self._df.iterrows():\n",
        "            # compute the cosinus similarity of the query with the paragraph\n",
        "            cos_sim = self._embedding_computer.compute_cos_sim(\n",
        "                query_preprocessed_embedding, row[embedding_column_name])\n",
        "            cos_sims_score[index] = cos_sim\n",
        "\n",
        "        return cos_sims_score\n",
        "\n",
        "    def _plot_density_and_line(self, df: pd.DataFrame, bin_width: float = 0.05):\n",
        "        \"\"\"This function plots the density and line chart for the 'Similarity', 'BM25 score', and 'Mixed score' columns\n",
        "        in the given DataFrame. It creates a histogram and a line plot for each of these columns on the same figure.\n",
        "        Args:\n",
        "            df: DataFrame containing the data to be plotted.\n",
        "            bin_width: The width of each bin in the histogram.\n",
        "        \"\"\"\n",
        "        # define the edges of the bins for the histogram\n",
        "        bin_edges = np.arange(0, 1 + bin_width, bin_width)\n",
        "\n",
        "        # create histograms for each score\n",
        "        similarity_counts, _ = np.histogram(df['Similarity'], bins=bin_edges)\n",
        "        bm25_counts, _ = np.histogram(df['BM25 score'], bins=bin_edges)\n",
        "        mixed_counts, _ = np.histogram(df['Mixed score'], bins=bin_edges)\n",
        "\n",
        "        # calculate the centers of the bins for line plot\n",
        "        bin_centers = (bin_edges[:-1] + bin_edges[1:]) / 2\n",
        "\n",
        "        # create a figure and axis for the plot\n",
        "        fig, ax = plt.subplots()\n",
        "\n",
        "        # plot histograms\n",
        "        ax.bar(bin_centers - bin_width/3, similarity_counts,\n",
        "               width=bin_width/3, align='center', label='Similarity', alpha=0.7)\n",
        "        ax.bar(bin_centers, bm25_counts, width=bin_width/3,\n",
        "               align='center', label='BM25 Score', alpha=0.7)\n",
        "        ax.bar(bin_centers + bin_width/3, mixed_counts, width=bin_width /\n",
        "               3, align='center', label='Mixed Score', alpha=0.7)\n",
        "\n",
        "        # plot line plots\n",
        "        ax.plot(bin_centers, similarity_counts,\n",
        "                label='Similarity Line', color='blue', marker='o')\n",
        "        ax.plot(bin_centers, bm25_counts,\n",
        "                label='BM25 Line', color='red', marker='x')\n",
        "        ax.plot(bin_centers, mixed_counts,\n",
        "                label='Mixed Line', color='green', marker='^')\n",
        "\n",
        "        # add labels and title\n",
        "        ax.set_xlabel('Score')\n",
        "        ax.set_ylabel('Number of Videos')\n",
        "        ax.set_title('Video Score Distributions')\n",
        "\n",
        "        # add a legend\n",
        "        ax.legend()\n",
        "\n",
        "        # show the plot\n",
        "        plt.show()\n",
        "\n",
        "    def search_by_choice(self, choice: str, query, top_n: int = 5):\n",
        "        \"\"\"Search the index with the query using the choice of algorithm\n",
        "\n",
        "        Args:\n",
        "            choice: the choice of algorithm, it can be \"bm25\", \"cos_sim_with_index\", \"cos_sim_with_filtered_paragraph\", \"both_with_index\", \"both_with_filtered_paragraph\"\n",
        "            query: the query\n",
        "            top_n: the number of results to return\n",
        "\n",
        "        Returns:\n",
        "            results: the search results\n",
        "        \"\"\"\n",
        "        if choice == \"bm25\":\n",
        "            print(\"Search with BM25 algorithm\")\n",
        "            scores = self._search_with_bm25(query)\n",
        "        elif choice == \"cos_sim_with_index\":\n",
        "            print(\"Search with cosinus similarity with index\")\n",
        "            scores = self._search_with_cos_sim(query)\n",
        "        elif choice == \"cos_sim_with_filtered_paragraph\":\n",
        "            print(\"Search with cosinus similarity\")\n",
        "            scores = self._search_with_cos_sim(\n",
        "                query, embedding_column_name=\"filtered_paragraph_embedding\")\n",
        "        elif choice == \"both_with_index\":\n",
        "            print(\"Search with both BM25 and cosinus similarity with index\")\n",
        "            scores_bm25 = self._search_with_bm25(query)\n",
        "            scores_cos_sim = self._search_with_cos_sim(query)\n",
        "            scores = {k: v * self.COEF_BM25 +\n",
        "                      scores_cos_sim[k] * self.COEF_COS_SIM for k, v in scores_bm25.items()}\n",
        "            data = {\n",
        "                \"Similarity\": scores_cos_sim.values(),\n",
        "                \"BM25 score\": scores_bm25.values(),\n",
        "                \"Mixed score\": scores.values()\n",
        "            }\n",
        "            df_scores = pd.DataFrame(data=data)\n",
        "            self._plot_density_and_line(\n",
        "                df_scores)\n",
        "\n",
        "        elif choice == \"both_with_filtered_paragraph\":\n",
        "            print(\"Search with both BM25 and cosinus similarity with filtered_paragraph\")\n",
        "            scores_bm25 = self._search_with_bm25(query)\n",
        "            scores_cos_sim = self._search_with_cos_sim(\n",
        "                query, embedding_column_name=\"filtered_paragraph_embedding\")\n",
        "            scores = {k: v * self.COEF_BM25 +\n",
        "                      scores_cos_sim[k] * self.COEF_COS_SIM for k, v in scores_bm25.items()}\n",
        "            data = {\n",
        "                \"Similarity\": scores_cos_sim.values(),\n",
        "                \"BM25 score\": scores_bm25.values(),\n",
        "                \"Mixed score\": scores.values()\n",
        "            }\n",
        "            df_scores = pd.DataFrame(data=data)\n",
        "            self._plot_density_and_line(\n",
        "                df_scores)\n",
        "        else:\n",
        "            return \"Invalid choice\"\n",
        "\n",
        "        # sort the cosinus similarity for bigger to smaller\n",
        "        scores = dict(\n",
        "            sorted(scores.items(), key=lambda item: item[1], reverse=True))\n",
        "        # show the cosinus similarity of top n results\n",
        "        print({k: v for k, v in list(scores.items())[:top_n]})\n",
        "        # get the top n results\n",
        "        results = self._df.iloc[list(scores.keys())].head(top_n)[\n",
        "            [\"page_title\", \"paragraph\"]].values.tolist()\n",
        "        # make it as a set of tubles\n",
        "        results = [(result[0], result[1]) for result in results]\n",
        "\n",
        "        return list(set(results))"
      ]
    },
    {
      "cell_type": "markdown",
      "metadata": {},
      "source": [
        "# III. Functions\n"
      ]
    },
    {
      "cell_type": "code",
      "execution_count": 48,
      "metadata": {},
      "outputs": [],
      "source": [
        "def display_distribution_number_words(paragraph_lengths: pd.Series):\n",
        "    \"\"\"Display the distribution of the number of words in the paragraphs\n",
        "\n",
        "    Args:\n",
        "        paragraph_lengths: the number of words in the paragraphs\n",
        "    \"\"\"\n",
        "\n",
        "    # plot the histogram of paragraph lengths\n",
        "    plt.hist(paragraph_lengths, bins=20, alpha=0.5, color='blue')\n",
        "\n",
        "    # add vertical lines for median, mean, and percentiles\n",
        "    plt.axvline(paragraph_lengths.median(), color='red',\n",
        "                linestyle='dashed', linewidth=1, label='Median')\n",
        "    plt.axvline(paragraph_lengths.mean(), color='green',\n",
        "                linestyle='dashed', linewidth=1, label='Mean')\n",
        "    plt.axvline(paragraph_lengths.quantile(0.25), color='orange',\n",
        "                linestyle='dashed', linewidth=1, label='25th Percentile')\n",
        "    plt.axvline(paragraph_lengths.quantile(0.75), color='purple',\n",
        "                linestyle='dashed', linewidth=1, label='75th Percentile')\n",
        "\n",
        "    # set the labels and title\n",
        "    plt.xlabel('Paragraph Length')\n",
        "    plt.ylabel('Frequency')\n",
        "    plt.title('Distribution of Paragraph Lengths')\n",
        "\n",
        "    # add a legend\n",
        "    plt.legend()\n",
        "\n",
        "    # show the plot\n",
        "    plt.show()"
      ]
    },
    {
      "cell_type": "code",
      "execution_count": 49,
      "metadata": {},
      "outputs": [],
      "source": [
        "def create_index_with_bm25(df) -> pd.DataFrame:\n",
        "    \"\"\"Create an index of paragraphs using BM25\n",
        "\n",
        "    Args:\n",
        "        df: the dataframe containing the paragraphs\n",
        "\n",
        "    Returns:\n",
        "        df_cp: the dataframe containing the paragraphs with the BM25 index\n",
        "    \"\"\"\n",
        "    df_cp = df.copy()\n",
        "    df_cp['trigram_bm25'] = None\n",
        "    for row in tqdm(df.itertuples(), total=len(df_cp)):\n",
        "        # the corpus is the list of trigrams\n",
        "        corpus = row.trigrams\n",
        "        # create a BM25 index\n",
        "        bm25 = BM25Okapi(corpus)\n",
        "        # tokenize the query\n",
        "        tokenized_query = row.filtered_paragraph.split()\n",
        "        # get the trigram with the highest BM25 score\n",
        "        trigram_bm25 = bm25.get_top_n(tokenized_query, corpus, n=1)[0]\n",
        "        # add the trigram with the highest BM25 score to the dataframe\n",
        "        df_cp.at[row.Index, \"trigram_bm25\"] = trigram_bm25\n",
        "\n",
        "    return df_cp"
      ]
    },
    {
      "cell_type": "markdown",
      "metadata": {},
      "source": [
        "# IV. Application\n"
      ]
    },
    {
      "cell_type": "markdown",
      "metadata": {},
      "source": [
        "## IV.1. Loading of the data and data analysis\n"
      ]
    },
    {
      "cell_type": "code",
      "execution_count": 11,
      "metadata": {
        "colab": {
          "base_uri": "https://localhost:8080/",
          "height": 206
        },
        "id": "h_M0saK7MQ2x",
        "outputId": "d8bf729d-b2e6-4c41-bbe6-750578323751"
      },
      "outputs": [
        {
          "data": {
            "text/html": [
              "<div>\n",
              "<style scoped>\n",
              "    .dataframe tbody tr th:only-of-type {\n",
              "        vertical-align: middle;\n",
              "    }\n",
              "\n",
              "    .dataframe tbody tr th {\n",
              "        vertical-align: top;\n",
              "    }\n",
              "\n",
              "    .dataframe thead th {\n",
              "        text-align: right;\n",
              "    }\n",
              "</style>\n",
              "<table border=\"1\" class=\"dataframe\">\n",
              "  <thead>\n",
              "    <tr style=\"text-align: right;\">\n",
              "      <th></th>\n",
              "      <th>theme</th>\n",
              "      <th>page_title</th>\n",
              "      <th>h1</th>\n",
              "      <th>h2</th>\n",
              "      <th>h3</th>\n",
              "      <th>h4</th>\n",
              "      <th>h5</th>\n",
              "      <th>paragraph</th>\n",
              "      <th>bold_words</th>\n",
              "      <th>source</th>\n",
              "    </tr>\n",
              "  </thead>\n",
              "  <tbody>\n",
              "    <tr>\n",
              "      <th>0</th>\n",
              "      <td>World War II</td>\n",
              "      <td>World War II - Wikipedia</td>\n",
              "      <td>World War II</td>\n",
              "      <td>NaN</td>\n",
              "      <td>NaN</td>\n",
              "      <td>NaN</td>\n",
              "      <td>NaN</td>\n",
              "      <td>Asia-Pacific</td>\n",
              "      <td>['Asia-Pacific']</td>\n",
              "      <td>https://en.wikipedia.org/wiki/World_War_II</td>\n",
              "    </tr>\n",
              "    <tr>\n",
              "      <th>1</th>\n",
              "      <td>World War II</td>\n",
              "      <td>Pacific War - Wikipedia</td>\n",
              "      <td>Pacific War</td>\n",
              "      <td>NaN</td>\n",
              "      <td>NaN</td>\n",
              "      <td>NaN</td>\n",
              "      <td>NaN</td>\n",
              "      <td>Allied occupation of Japan</td>\n",
              "      <td>[]</td>\n",
              "      <td>https://en.wikipedia.org/wiki/Pacific_War</td>\n",
              "    </tr>\n",
              "    <tr>\n",
              "      <th>2</th>\n",
              "      <td>World War II</td>\n",
              "      <td>Occupation of Japan - Wikipedia</td>\n",
              "      <td>Occupation of Japan</td>\n",
              "      <td>NaN</td>\n",
              "      <td>NaN</td>\n",
              "      <td>NaN</td>\n",
              "      <td>NaN</td>\n",
              "      <td>Japan was occupied and administered by the victorious Allies of World War II from the surrender of the Empire of Japan on September 2, 1945 at the end of the Second World War until the Treaty of San Francisco took effect on April 28, 1952. The occupation, led by the American military with support from the British Commonwealth and under the supervision of the Far Eastern Commission, involved a total of nearly one million Allied soldiers.[1] The occupation was overseen by the US General Douglas MacArthur, who was appointed Supreme Commander for the Allied Powers by the US President Harry S. Truman; MacArthur was succeeded as supreme commander by General Matthew Ridgway in 1951. Unlike in the occupation of Germany and the occupation of Austria, the Soviet Union had little to no influence over the occupation of Japan, declining to participate because it did not want to place Soviet troops under MacArthur's direct command.[2]</td>\n",
              "      <td>[]</td>\n",
              "      <td>https://en.wikipedia.org/wiki/Occupation_of_Japan</td>\n",
              "    </tr>\n",
              "    <tr>\n",
              "      <th>3</th>\n",
              "      <td>World War II</td>\n",
              "      <td>Occupation of Japan - Wikipedia</td>\n",
              "      <td>Occupation of Japan</td>\n",
              "      <td>NaN</td>\n",
              "      <td>NaN</td>\n",
              "      <td>NaN</td>\n",
              "      <td>NaN</td>\n",
              "      <td>This foreign presence marks the only time in the history of Japan that it has been occupied by a foreign power.[3] However, unlike in Germany the Allies never assumed direct control over Japan's civil administration. In the immediate aftermath of Japan's military surrender, the country's government continued to formally operate under the provisions of the Meiji Constitution. Furthermore, at General MacArthur's insistence, Emperor Hirohito remained on the imperial throne and was effectively granted full immunity from prosecution for war crimes after he agreed to replace the wartime cabinet with a ministry acceptable to the Allies and committed to implementing the terms of the Potsdam Declaration, which among other things called for the country to become a parliamentary democracy. Under MacArthur's guidance, the Japanese government introduced sweeping social reforms and implemented economic reforms that recalled American \"New Deal\" priorities of the 1930s under President Franklin D. Roosevelt.[4] In 1947, a sweeping amendment to the Meiji Constitution was passed that effectively repealed it in its entirety and replaced it with a new, American-written constitution, and the Emperor's theoretically vast powers, which for many centuries had been constrained only by conventions that had evolved over time, became strictly limited by law as a constitutional monarchy.</td>\n",
              "      <td>[]</td>\n",
              "      <td>https://en.wikipedia.org/wiki/Occupation_of_Japan</td>\n",
              "    </tr>\n",
              "    <tr>\n",
              "      <th>4</th>\n",
              "      <td>World War II</td>\n",
              "      <td>Occupation of Japan - Wikipedia</td>\n",
              "      <td>Occupation of Japan</td>\n",
              "      <td>NaN</td>\n",
              "      <td>NaN</td>\n",
              "      <td>NaN</td>\n",
              "      <td>NaN</td>\n",
              "      <td>While Article 9 of the constitution explicitly forbade Japan from maintaining a military or pursuing war as a means to settle international disputes, this policy soon became problematic especially as neighboring China fell under the control of the Chinese Communist Party and the Korean War broke out. As a result, the National Police Reserve (NPR) was founded in 1950. The NPR was reorganized into the Japan Self-Defense Forces (JSDF) in 1954, effectively completing the de facto remilitarization of Japan on the orders of SCAP.</td>\n",
              "      <td>[]</td>\n",
              "      <td>https://en.wikipedia.org/wiki/Occupation_of_Japan</td>\n",
              "    </tr>\n",
              "  </tbody>\n",
              "</table>\n",
              "</div>"
            ],
            "text/plain": [
              "          theme                       page_title                   h1   h2  \\\n",
              "0  World War II         World War II - Wikipedia         World War II  NaN   \n",
              "1  World War II          Pacific War - Wikipedia          Pacific War  NaN   \n",
              "2  World War II  Occupation of Japan - Wikipedia  Occupation of Japan  NaN   \n",
              "3  World War II  Occupation of Japan - Wikipedia  Occupation of Japan  NaN   \n",
              "4  World War II  Occupation of Japan - Wikipedia  Occupation of Japan  NaN   \n",
              "\n",
              "    h3   h4   h5  \\\n",
              "0  NaN  NaN  NaN   \n",
              "1  NaN  NaN  NaN   \n",
              "2  NaN  NaN  NaN   \n",
              "3  NaN  NaN  NaN   \n",
              "4  NaN  NaN  NaN   \n",
              "\n",
              "                                                                                                                                                                                                                                                                                                                                                                                                                                                                                                                                                                                                                                                                                                                                                                                                                                                                                                                                                                                                                                                                                                                                                                                                                                                                                                                                                                                                                              paragraph  \\\n",
              "0                                                                                                                                                                                                                                                                                                                                                                                                                                                                                                                                                                                                                                                                                                                                                                                                                                                                                                                                                                                                                                                                                                                                                                                                                                                                                                                                                                                                                          Asia-Pacific   \n",
              "1                                                                                                                                                                                                                                                                                                                                                                                                                                                                                                                                                                                                                                                                                                                                                                                                                                                                                                                                                                                                                                                                                                                                                                                                                                                                                                                                                                                                            Allied occupation of Japan   \n",
              "2                                                                                                                                                                                                                                                                                                                                                                                                                                                                Japan was occupied and administered by the victorious Allies of World War II from the surrender of the Empire of Japan on September 2, 1945 at the end of the Second World War until the Treaty of San Francisco took effect on April 28, 1952. The occupation, led by the American military with support from the British Commonwealth and under the supervision of the Far Eastern Commission, involved a total of nearly one million Allied soldiers.[1] The occupation was overseen by the US General Douglas MacArthur, who was appointed Supreme Commander for the Allied Powers by the US President Harry S. Truman; MacArthur was succeeded as supreme commander by General Matthew Ridgway in 1951. Unlike in the occupation of Germany and the occupation of Austria, the Soviet Union had little to no influence over the occupation of Japan, declining to participate because it did not want to place Soviet troops under MacArthur's direct command.[2]   \n",
              "3  This foreign presence marks the only time in the history of Japan that it has been occupied by a foreign power.[3] However, unlike in Germany the Allies never assumed direct control over Japan's civil administration. In the immediate aftermath of Japan's military surrender, the country's government continued to formally operate under the provisions of the Meiji Constitution. Furthermore, at General MacArthur's insistence, Emperor Hirohito remained on the imperial throne and was effectively granted full immunity from prosecution for war crimes after he agreed to replace the wartime cabinet with a ministry acceptable to the Allies and committed to implementing the terms of the Potsdam Declaration, which among other things called for the country to become a parliamentary democracy. Under MacArthur's guidance, the Japanese government introduced sweeping social reforms and implemented economic reforms that recalled American \"New Deal\" priorities of the 1930s under President Franklin D. Roosevelt.[4] In 1947, a sweeping amendment to the Meiji Constitution was passed that effectively repealed it in its entirety and replaced it with a new, American-written constitution, and the Emperor's theoretically vast powers, which for many centuries had been constrained only by conventions that had evolved over time, became strictly limited by law as a constitutional monarchy.   \n",
              "4                                                                                                                                                                                                                                                                                                                                                                                                                                                                                                                                                                                                                                                                                                                                                                                                                                                                                     While Article 9 of the constitution explicitly forbade Japan from maintaining a military or pursuing war as a means to settle international disputes, this policy soon became problematic especially as neighboring China fell under the control of the Chinese Communist Party and the Korean War broke out. As a result, the National Police Reserve (NPR) was founded in 1950. The NPR was reorganized into the Japan Self-Defense Forces (JSDF) in 1954, effectively completing the de facto remilitarization of Japan on the orders of SCAP.   \n",
              "\n",
              "         bold_words                                             source  \n",
              "0  ['Asia-Pacific']         https://en.wikipedia.org/wiki/World_War_II  \n",
              "1                []          https://en.wikipedia.org/wiki/Pacific_War  \n",
              "2                []  https://en.wikipedia.org/wiki/Occupation_of_Japan  \n",
              "3                []  https://en.wikipedia.org/wiki/Occupation_of_Japan  \n",
              "4                []  https://en.wikipedia.org/wiki/Occupation_of_Japan  "
            ]
          },
          "execution_count": 11,
          "metadata": {},
          "output_type": "execute_result"
        }
      ],
      "source": [
        "df = pd.read_csv('wikipedia_dataset.csv')\n",
        "df.head()"
      ]
    },
    {
      "cell_type": "code",
      "execution_count": 12,
      "metadata": {},
      "outputs": [
        {
          "data": {
            "text/plain": [
              "2743"
            ]
          },
          "execution_count": 12,
          "metadata": {},
          "output_type": "execute_result"
        }
      ],
      "source": [
        "len(df.source.unique())"
      ]
    },
    {
      "cell_type": "code",
      "execution_count": 13,
      "metadata": {},
      "outputs": [
        {
          "data": {
            "image/png": "[encoded data removed]",
            "text/plain": [
              "<Figure size 640x480 with 1 Axes>"
            ]
          },
          "metadata": {},
          "output_type": "display_data"
        }
      ],
      "source": [
        "# get the length of tokens of the all the paragraphs and make it as a series with the same index as the original dataframe\n",
        "paragraph_lengths = df[\"paragraph\"].apply(lambda x: len(x.split()))\n",
        "# display the distribution of the number of words in the paragraphs\n",
        "display_distribution_number_words(paragraph_lengths)"
      ]
    },
    {
      "cell_type": "markdown",
      "metadata": {},
      "source": [
        "We can see the data collected through web scraping is not perfect, which is to be expected. A lot of our paragraphs have a small length. We are going to remove all the ones under the 1st percentile. That is essentially the ones under 50 words\n"
      ]
    },
    {
      "cell_type": "markdown",
      "metadata": {
        "id": "ot4XWBnGMQ2z"
      },
      "source": [
        "## IV.2. Data processing\n"
      ]
    },
    {
      "cell_type": "markdown",
      "metadata": {},
      "source": [
        "### IV.2.1. Elimination of the 1st percentile of paragraph lengths\n"
      ]
    },
    {
      "cell_type": "code",
      "execution_count": 14,
      "metadata": {},
      "outputs": [
        {
          "data": {
            "text/html": [
              "<div>\n",
              "<style scoped>\n",
              "    .dataframe tbody tr th:only-of-type {\n",
              "        vertical-align: middle;\n",
              "    }\n",
              "\n",
              "    .dataframe tbody tr th {\n",
              "        vertical-align: top;\n",
              "    }\n",
              "\n",
              "    .dataframe thead th {\n",
              "        text-align: right;\n",
              "    }\n",
              "</style>\n",
              "<table border=\"1\" class=\"dataframe\">\n",
              "  <thead>\n",
              "    <tr style=\"text-align: right;\">\n",
              "      <th></th>\n",
              "      <th>theme</th>\n",
              "      <th>page_title</th>\n",
              "      <th>h1</th>\n",
              "      <th>h2</th>\n",
              "      <th>h3</th>\n",
              "      <th>h4</th>\n",
              "      <th>h5</th>\n",
              "      <th>paragraph</th>\n",
              "      <th>bold_words</th>\n",
              "      <th>source</th>\n",
              "    </tr>\n",
              "  </thead>\n",
              "  <tbody>\n",
              "    <tr>\n",
              "      <th>0</th>\n",
              "      <td>World War II</td>\n",
              "      <td>Occupation of Japan - Wikipedia</td>\n",
              "      <td>Occupation of Japan</td>\n",
              "      <td>NaN</td>\n",
              "      <td>NaN</td>\n",
              "      <td>NaN</td>\n",
              "      <td>NaN</td>\n",
              "      <td>Japan was occupied and administered by the victorious Allies of World War II from the surrender of the Empire of Japan on September 2, 1945 at the end of the Second World War until the Treaty of San Francisco took effect on April 28, 1952. The occupation, led by the American military with support from the British Commonwealth and under the supervision of the Far Eastern Commission, involved a total of nearly one million Allied soldiers.[1] The occupation was overseen by the US General Douglas MacArthur, who was appointed Supreme Commander for the Allied Powers by the US President Harry S. Truman; MacArthur was succeeded as supreme commander by General Matthew Ridgway in 1951. Unlike in the occupation of Germany and the occupation of Austria, the Soviet Union had little to no influence over the occupation of Japan, declining to participate because it did not want to place Soviet troops under MacArthur's direct command.[2]</td>\n",
              "      <td>[]</td>\n",
              "      <td>https://en.wikipedia.org/wiki/Occupation_of_Japan</td>\n",
              "    </tr>\n",
              "    <tr>\n",
              "      <th>1</th>\n",
              "      <td>World War II</td>\n",
              "      <td>Occupation of Japan - Wikipedia</td>\n",
              "      <td>Occupation of Japan</td>\n",
              "      <td>NaN</td>\n",
              "      <td>NaN</td>\n",
              "      <td>NaN</td>\n",
              "      <td>NaN</td>\n",
              "      <td>This foreign presence marks the only time in the history of Japan that it has been occupied by a foreign power.[3] However, unlike in Germany the Allies never assumed direct control over Japan's civil administration. In the immediate aftermath of Japan's military surrender, the country's government continued to formally operate under the provisions of the Meiji Constitution. Furthermore, at General MacArthur's insistence, Emperor Hirohito remained on the imperial throne and was effectively granted full immunity from prosecution for war crimes after he agreed to replace the wartime cabinet with a ministry acceptable to the Allies and committed to implementing the terms of the Potsdam Declaration, which among other things called for the country to become a parliamentary democracy. Under MacArthur's guidance, the Japanese government introduced sweeping social reforms and implemented economic reforms that recalled American \"New Deal\" priorities of the 1930s under President Franklin D. Roosevelt.[4] In 1947, a sweeping amendment to the Meiji Constitution was passed that effectively repealed it in its entirety and replaced it with a new, American-written constitution, and the Emperor's theoretically vast powers, which for many centuries had been constrained only by conventions that had evolved over time, became strictly limited by law as a constitutional monarchy.</td>\n",
              "      <td>[]</td>\n",
              "      <td>https://en.wikipedia.org/wiki/Occupation_of_Japan</td>\n",
              "    </tr>\n",
              "    <tr>\n",
              "      <th>2</th>\n",
              "      <td>World War II</td>\n",
              "      <td>Occupation of Japan - Wikipedia</td>\n",
              "      <td>Occupation of Japan</td>\n",
              "      <td>NaN</td>\n",
              "      <td>NaN</td>\n",
              "      <td>NaN</td>\n",
              "      <td>NaN</td>\n",
              "      <td>While Article 9 of the constitution explicitly forbade Japan from maintaining a military or pursuing war as a means to settle international disputes, this policy soon became problematic especially as neighboring China fell under the control of the Chinese Communist Party and the Korean War broke out. As a result, the National Police Reserve (NPR) was founded in 1950. The NPR was reorganized into the Japan Self-Defense Forces (JSDF) in 1954, effectively completing the de facto remilitarization of Japan on the orders of SCAP.</td>\n",
              "      <td>[]</td>\n",
              "      <td>https://en.wikipedia.org/wiki/Occupation_of_Japan</td>\n",
              "    </tr>\n",
              "    <tr>\n",
              "      <th>3</th>\n",
              "      <td>World War II</td>\n",
              "      <td>Occupation of Japan - Wikipedia</td>\n",
              "      <td>Occupation of Japan</td>\n",
              "      <td>NaN</td>\n",
              "      <td>NaN</td>\n",
              "      <td>NaN</td>\n",
              "      <td>NaN</td>\n",
              "      <td>The occupation officially ended with the coming into force of the Treaty of San Francisco, signed on September 8, 1951, and effective from April 28, 1952, after which the US military ceased any direct involvement in the country's civil administration thus effectively restoring full sovereignty to Japan with the exception of the Ryukyu Islands (Okinawa Prefecture). The simultaneous implementation of the US-Japan Security Treaty (replaced by the revised treaty in 1960) allowed tens of thousands of American soldiers to remain based in Japan indefinitely, albeit at the invitation of the Japanese government and not as an occupation force.[5]</td>\n",
              "      <td>[]</td>\n",
              "      <td>https://en.wikipedia.org/wiki/Occupation_of_Japan</td>\n",
              "    </tr>\n",
              "    <tr>\n",
              "      <th>4</th>\n",
              "      <td>World War II</td>\n",
              "      <td>Occupation of Japan - Wikipedia</td>\n",
              "      <td>Occupation of Japan</td>\n",
              "      <td>NaN</td>\n",
              "      <td>NaN</td>\n",
              "      <td>NaN</td>\n",
              "      <td>NaN</td>\n",
              "      <td>The occupation of Japan can be usefully divided into three phases: the initial effort to punish and reform Japan; the so-called \"Reverse Course\" in which the focus shifted to suppressing dissent and reviving the Japanese economy to support the US in the Cold War as a country of Western Bloc; and the final establishment of a formal peace treaty with the 48 Allies of the Second World War and enduring military alliance.[6]</td>\n",
              "      <td>[]</td>\n",
              "      <td>https://en.wikipedia.org/wiki/Occupation_of_Japan</td>\n",
              "    </tr>\n",
              "  </tbody>\n",
              "</table>\n",
              "</div>"
            ],
            "text/plain": [
              "          theme                       page_title                   h1   h2  \\\n",
              "0  World War II  Occupation of Japan - Wikipedia  Occupation of Japan  NaN   \n",
              "1  World War II  Occupation of Japan - Wikipedia  Occupation of Japan  NaN   \n",
              "2  World War II  Occupation of Japan - Wikipedia  Occupation of Japan  NaN   \n",
              "3  World War II  Occupation of Japan - Wikipedia  Occupation of Japan  NaN   \n",
              "4  World War II  Occupation of Japan - Wikipedia  Occupation of Japan  NaN   \n",
              "\n",
              "    h3   h4   h5  \\\n",
              "0  NaN  NaN  NaN   \n",
              "1  NaN  NaN  NaN   \n",
              "2  NaN  NaN  NaN   \n",
              "3  NaN  NaN  NaN   \n",
              "4  NaN  NaN  NaN   \n",
              "\n",
              "                                                                                                                                                                                                                                                                                                                                                                                                                                                                                                                                                                                                                                                                                                                                                                                                                                                                                                                                                                                                                                                                                                                                                                                                                                                                                                                                                                                                                              paragraph  \\\n",
              "0                                                                                                                                                                                                                                                                                                                                                                                                                                                                Japan was occupied and administered by the victorious Allies of World War II from the surrender of the Empire of Japan on September 2, 1945 at the end of the Second World War until the Treaty of San Francisco took effect on April 28, 1952. The occupation, led by the American military with support from the British Commonwealth and under the supervision of the Far Eastern Commission, involved a total of nearly one million Allied soldiers.[1] The occupation was overseen by the US General Douglas MacArthur, who was appointed Supreme Commander for the Allied Powers by the US President Harry S. Truman; MacArthur was succeeded as supreme commander by General Matthew Ridgway in 1951. Unlike in the occupation of Germany and the occupation of Austria, the Soviet Union had little to no influence over the occupation of Japan, declining to participate because it did not want to place Soviet troops under MacArthur's direct command.[2]   \n",
              "1  This foreign presence marks the only time in the history of Japan that it has been occupied by a foreign power.[3] However, unlike in Germany the Allies never assumed direct control over Japan's civil administration. In the immediate aftermath of Japan's military surrender, the country's government continued to formally operate under the provisions of the Meiji Constitution. Furthermore, at General MacArthur's insistence, Emperor Hirohito remained on the imperial throne and was effectively granted full immunity from prosecution for war crimes after he agreed to replace the wartime cabinet with a ministry acceptable to the Allies and committed to implementing the terms of the Potsdam Declaration, which among other things called for the country to become a parliamentary democracy. Under MacArthur's guidance, the Japanese government introduced sweeping social reforms and implemented economic reforms that recalled American \"New Deal\" priorities of the 1930s under President Franklin D. Roosevelt.[4] In 1947, a sweeping amendment to the Meiji Constitution was passed that effectively repealed it in its entirety and replaced it with a new, American-written constitution, and the Emperor's theoretically vast powers, which for many centuries had been constrained only by conventions that had evolved over time, became strictly limited by law as a constitutional monarchy.   \n",
              "2                                                                                                                                                                                                                                                                                                                                                                                                                                                                                                                                                                                                                                                                                                                                                                                                                                                                                     While Article 9 of the constitution explicitly forbade Japan from maintaining a military or pursuing war as a means to settle international disputes, this policy soon became problematic especially as neighboring China fell under the control of the Chinese Communist Party and the Korean War broke out. As a result, the National Police Reserve (NPR) was founded in 1950. The NPR was reorganized into the Japan Self-Defense Forces (JSDF) in 1954, effectively completing the de facto remilitarization of Japan on the orders of SCAP.   \n",
              "3                                                                                                                                                                                                                                                                                                                                                                                                                                                                                                                                                                                                                                                                                                                                                                  The occupation officially ended with the coming into force of the Treaty of San Francisco, signed on September 8, 1951, and effective from April 28, 1952, after which the US military ceased any direct involvement in the country's civil administration thus effectively restoring full sovereignty to Japan with the exception of the Ryukyu Islands (Okinawa Prefecture). The simultaneous implementation of the US-Japan Security Treaty (replaced by the revised treaty in 1960) allowed tens of thousands of American soldiers to remain based in Japan indefinitely, albeit at the invitation of the Japanese government and not as an occupation force.[5]   \n",
              "4                                                                                                                                                                                                                                                                                                                                                                                                                                                                                                                                                                                                                                                                                                                                                                                                                                                                                                                                                                                               The occupation of Japan can be usefully divided into three phases: the initial effort to punish and reform Japan; the so-called \"Reverse Course\" in which the focus shifted to suppressing dissent and reviving the Japanese economy to support the US in the Cold War as a country of Western Bloc; and the final establishment of a formal peace treaty with the 48 Allies of the Second World War and enduring military alliance.[6]   \n",
              "\n",
              "  bold_words                                             source  \n",
              "0         []  https://en.wikipedia.org/wiki/Occupation_of_Japan  \n",
              "1         []  https://en.wikipedia.org/wiki/Occupation_of_Japan  \n",
              "2         []  https://en.wikipedia.org/wiki/Occupation_of_Japan  \n",
              "3         []  https://en.wikipedia.org/wiki/Occupation_of_Japan  \n",
              "4         []  https://en.wikipedia.org/wiki/Occupation_of_Japan  "
            ]
          },
          "execution_count": 14,
          "metadata": {},
          "output_type": "execute_result"
        }
      ],
      "source": [
        "# calculate the 1st percentile of paragraph lengths\n",
        "percentile_1 = paragraph_lengths.quantile(0.25)\n",
        "\n",
        "# remove the rows where paragraphs are under the length of the 1st percentile\n",
        "df = df[paragraph_lengths >= percentile_1]\n",
        "\n",
        "# reset the index of the dataframe\n",
        "df.reset_index(drop=True, inplace=True)\n",
        "\n",
        "# display the filtered dataframe\n",
        "df.head()"
      ]
    },
    {
      "cell_type": "markdown",
      "metadata": {},
      "source": [
        "### IV.2.2. Preprocessing of the data\n"
      ]
    },
    {
      "cell_type": "code",
      "execution_count": 15,
      "metadata": {},
      "outputs": [],
      "source": [
        "pipeline_preprocessing = PipelinePreprocessing()\n",
        "columns_to_be_filtered = [\"paragraph\", \"page_title\",\n",
        "                          \"h1\", \"h2\", \"h3\", \"h4\", \"h5\", \"bold_words\"]\n",
        "\n",
        "for column in columns_to_be_filtered:\n",
        "    df[f\"filtered_{column}\"] = df[column].apply(\n",
        "        lambda x: pipeline_preprocessing.pre_process_document(x) if str(x) != \"nan\" else x)"
      ]
    },
    {
      "cell_type": "markdown",
      "metadata": {},
      "source": [
        "### IV.2.3. Creation of the trigrams\n"
      ]
    },
    {
      "cell_type": "code",
      "execution_count": 16,
      "metadata": {
        "id": "RhWmPSn1MQ22"
      },
      "outputs": [],
      "source": [
        "# tokenize the paragraphs into words\n",
        "list_of_tokenized_text = [word_tokenize(\n",
        "    paragraph) for paragraph in df['filtered_paragraph']]\n",
        "\n",
        "# convert each paragraph into a list of 3-grams\n",
        "list_of_trigrams = [list(nltk.ngrams(tokens, 3))\n",
        "                    for tokens in list_of_tokenized_text]\n",
        "\n",
        "# add the list of 3-grams to the dataframe\n",
        "df['trigrams'] = list_of_trigrams"
      ]
    },
    {
      "cell_type": "code",
      "execution_count": 100,
      "metadata": {},
      "outputs": [
        {
          "data": {
            "text/plain": [
              "0                                                                                                                                                                                                                                                                                                                                                                                                                                                                                                                                                                                                                                                                                                                                                                                                                                                [(japan, occupied, administered), (occupied, administered, victorious), (administered, victorious, ally), (victorious, ally, world), (ally, world, war), (world, war, ii), (war, ii, surrender), (ii, surrender, empire), (surrender, empire, japan), (empire, japan, september), (japan, september, end), (september, end, second), (end, second, world), (second, world, war), (world, war, treaty), (war, treaty, san), (treaty, san, francisco), (san, francisco, took), (francisco, took, effect), (took, effect, april), (effect, april, occupation), (april, occupation, led), (occupation, led, american), (led, american, military), (american, military, support), (military, support, british), (support, british, commonwealth), (british, commonwealth, supervision), (commonwealth, supervision, far), (supervision, far, eastern), (far, eastern, commission), (eastern, commission, involved), (commission, involved, total), (involved, total, nearly), (total, nearly, one), (nearly, one, million), (one, million, allied), (million, allied, soldier), (allied, soldier, occupation), (soldier, occupation, overseen), (occupation, overseen, u), (overseen, u, general), (u, general, douglas), (general, douglas, macarthur), (douglas, macarthur, appointed), (macarthur, appointed, supreme), (appointed, supreme, commander), (supreme, commander, allied), (commander, allied, power), (allied, power, u), (power, u, president), (u, president, harry), (president, harry, truman), (harry, truman, macarthur), (truman, macarthur, succeeded), (macarthur, succeeded, supreme), (succeeded, supreme, commander), (supreme, commander, general), (commander, general, matthew), (general, matthew, ridgway), (matthew, ridgway, unlike), (ridgway, unlike, occupation), (unlike, occupation, germany), (occupation, germany, occupation), (germany, occupation, austria), (occupation, austria, soviet), (austria, soviet, union), (soviet, union, little), (union, little, influence), (little, influence, occupation), (influence, occupation, japan), (occupation, japan, declining), (japan, declining, participate), (declining, participate, want), (participate, want, place), (want, place, soviet), (place, soviet, troop), (soviet, troop, macarthur), (troop, macarthur, direct), (macarthur, direct, command)]\n",
              "1        [(foreign, presence, mark), (presence, mark, time), (mark, time, history), (time, history, japan), (history, japan, occupied), (japan, occupied, foreign), (occupied, foreign, power), (foreign, power, however), (power, however, unlike), (however, unlike, germany), (unlike, germany, ally), (germany, ally, never), (ally, never, assumed), (never, assumed, direct), (assumed, direct, control), (direct, control, japan), (control, japan, civil), (japan, civil, administration), (civil, administration, immediate), (administration, immediate, aftermath), (immediate, aftermath, japan), (aftermath, japan, military), (japan, military, surrender), (military, surrender, country), (surrender, country, government), (country, government, continued), (government, continued, formally), (continued, formally, operate), (formally, operate, provision), (operate, provision, meiji), (provision, meiji, constitution), (meiji, constitution, furthermore), (constitution, furthermore, general), (furthermore, general, macarthur), (general, macarthur, insistence), (macarthur, insistence, emperor), (insistence, emperor, hirohito), (emperor, hirohito, remained), (hirohito, remained, imperial), (remained, imperial, throne), (imperial, throne, effectively), (throne, effectively, granted), (effectively, granted, full), (granted, full, immunity), (full, immunity, prosecution), (immunity, prosecution, war), (prosecution, war, crime), (war, crime, agreed), (crime, agreed, replace), (agreed, replace, wartime), (replace, wartime, cabinet), (wartime, cabinet, ministry), (cabinet, ministry, acceptable), (ministry, acceptable, ally), (acceptable, ally, committed), (ally, committed, implementing), (committed, implementing, term), (implementing, term, potsdam), (term, potsdam, declaration), (potsdam, declaration, among), (declaration, among, thing), (among, thing, called), (thing, called, country), (called, country, become), (country, become, parliamentary), (become, parliamentary, democracy), (parliamentary, democracy, macarthur), (democracy, macarthur, guidance), (macarthur, guidance, japanese), (guidance, japanese, government), (japanese, government, introduced), (government, introduced, sweeping), (introduced, sweeping, social), (sweeping, social, reform), (social, reform, implemented), (reform, implemented, economic), (implemented, economic, reform), (economic, reform, recalled), (reform, recalled, american), (recalled, american, new), (american, new, deal), (new, deal, priority), (deal, priority, president), (priority, president, franklin), (president, franklin, roosevelt), (franklin, roosevelt, sweeping), (roosevelt, sweeping, amendment), (sweeping, amendment, meiji), (amendment, meiji, constitution), (meiji, constitution, passed), (constitution, passed, effectively), (passed, effectively, repealed), (effectively, repealed, entirety), (repealed, entirety, replaced), (entirety, replaced, new), (replaced, new, american), (new, american, written), (american, written, constitution), (written, constitution, emperor), (constitution, emperor, theoretically), ...]\n",
              "2                                                                                                                                                                                                                                                                                                                                                                                                                                                                                                                                                                                                                                                                                                                                                                                                                                                                                                                                                                                                                                                                                                                                                                                                                                                                                                                                                                                                                                                                                                                                                                                                                                                                                                                                                                                                                                                                  [(article, constitution, explicitly), (constitution, explicitly, forbade), (explicitly, forbade, japan), (forbade, japan, maintaining), (japan, maintaining, military), (maintaining, military, pursuing), (military, pursuing, war), (pursuing, war, mean), (war, mean, settle), (mean, settle, international), (settle, international, dispute), (international, dispute, policy), (dispute, policy, soon), (policy, soon, became), (soon, became, problematic), (became, problematic, especially), (problematic, especially, neighboring), (especially, neighboring, china), (neighboring, china, fell), (china, fell, control), (fell, control, chinese), (control, chinese, communist), (chinese, communist, party), (communist, party, korean), (party, korean, war), (korean, war, broke), (war, broke, result), (broke, result, national), (result, national, police), (national, police, reserve), (police, reserve, npr), (reserve, npr, founded), (npr, founded, npr), (founded, npr, reorganized), (npr, reorganized, japan), (reorganized, japan, self), (japan, self, defense), (self, defense, force), (defense, force, jsdf), (force, jsdf, effectively), (jsdf, effectively, completing), (effectively, completing, de), (completing, de, facto), (de, facto, japan), (facto, japan, order), (japan, order, scap)]\n",
              "3                                                                                                                                                                                                                                                                                                                                                                                                                                                                                                                                                                                                                                                                                                                                                                                                                                                                                                                                                                                                                                                                                                                                                                                                                                                                                                                                                                                                                                                                                                                                                               [(occupation, officially, ended), (officially, ended, coming), (ended, coming, force), (coming, force, treaty), (force, treaty, san), (treaty, san, francisco), (san, francisco, signed), (francisco, signed, september), (signed, september, effective), (september, effective, april), (effective, april, u), (april, u, military), (u, military, ceased), (military, ceased, direct), (ceased, direct, involvement), (direct, involvement, country), (involvement, country, civil), (country, civil, administration), (civil, administration, thus), (administration, thus, effectively), (thus, effectively, restoring), (effectively, restoring, full), (restoring, full, sovereignty), (full, sovereignty, japan), (sovereignty, japan, exception), (japan, exception, ryukyu), (exception, ryukyu, island), (ryukyu, island, okinawa), (island, okinawa, prefecture), (okinawa, prefecture, simultaneous), (prefecture, simultaneous, implementation), (simultaneous, implementation, u), (implementation, u, japan), (u, japan, security), (japan, security, treaty), (security, treaty, replaced), (treaty, replaced, revised), (replaced, revised, treaty), (revised, treaty, allowed), (treaty, allowed, ten), (allowed, ten, thousand), (ten, thousand, american), (thousand, american, soldier), (american, soldier, remain), (soldier, remain, based), (remain, based, japan), (based, japan, indefinitely), (japan, indefinitely, albeit), (indefinitely, albeit, invitation), (albeit, invitation, japanese), (invitation, japanese, government), (japanese, government, occupation), (government, occupation, force)]\n",
              "4                                                                                                                                                                                                                                                                                                                                                                                                                                                                                                                                                                                                                                                                                                                                                                                                                                                                                                                                                                                                                                                                                                                                                                                                                                                                                                                                                                                                                                                                                                                                                                                                                                                                                                                                                                                                                                                                                                                                                                                                                                                                                                                                                  [(occupation, japan, usefully), (japan, usefully, divided), (usefully, divided, three), (divided, three, phase), (three, phase, initial), (phase, initial, effort), (initial, effort, punish), (effort, punish, reform), (punish, reform, japan), (reform, japan, called), (japan, called, reverse), (called, reverse, course), (reverse, course, focus), (course, focus, shifted), (focus, shifted, suppressing), (shifted, suppressing, dissent), (suppressing, dissent, reviving), (dissent, reviving, japanese), (reviving, japanese, economy), (japanese, economy, support), (economy, support, u), (support, u, cold), (u, cold, war), (cold, war, country), (war, country, western), (country, western, bloc), (western, bloc, final), (bloc, final, establishment), (final, establishment, formal), (establishment, formal, peace), (formal, peace, treaty), (peace, treaty, ally), (treaty, ally, second), (ally, second, world), (second, world, war), (world, war, enduring), (war, enduring, military), (enduring, military, alliance)]\n",
              "                                                                                                                                                                                                                                                                                                                                                                                                                                                                                                                                                                                                                                                                                                                                                                                                                                                                                                                                                                                                                                                                                                                                                                                                                                                                                                                                                                                                                                                                                                                                                                                                     ...                                                                                                                                                                                                                                                                                                                                                                                                                                                                                                                                                                                                                                                                                                                                                                                                                                                                                                                                                                                                                                                                                                                                                                                                                                                                                                                                                                                                                                                                                                                                                                                              \n",
              "91529                                                                                                                                                                                                                                                                                                                                                                                                                                                                                                                                                                                                                                                                                                                                                                                                                                                                                                                                                                                                                                                                                                                                                                                                                                                                                                                                                                                                                                                                                                                                                                                                                                                                                                                                                                                                                                                                                                                                                                                                                                                                                                                                                           [(david, christian, note), (christian, note, first), (note, first, universal), (first, universal, religion), (universal, religion, appeared), (religion, appeared, age), (appeared, age, first), (age, first, universal), (first, universal, empire), (universal, empire, first), (empire, first, encompassing), (first, encompassing, trading), (encompassing, trading, network), (trading, network, conclusion), (network, conclusion, overlook), (conclusion, overlook, fact), (overlook, fact, venus), (fact, venus, statue), (venus, statue, example), (statue, example, found), (example, found, across), (found, across, much), (across, much, eurasia), (much, eurasia, date), (eurasia, date, back), (date, back, many), (back, many, millennium), (many, millennium, first), (millennium, first, empire), (first, empire, regard), (empire, regard, emergence), (regard, emergence, religion), (emergence, religion, likely), (religion, likely, emergence), (likely, emergence, codified), (emergence, codified, religion)]\n",
              "91530                                                                                                                                                                                                                                                                                                                                                                                                                                                                                                                                                                                                                                                                                                                                                                                                                                                                                                                                                                                                                                                              [(anthropologist, david, graeber), (david, graeber, pointed), (graeber, pointed, core), (pointed, core, period), (core, period, jasper), (period, jasper, axial), (jasper, axial, age), (axial, age, corresponds), (age, corresponds, almost), (corresponds, almost, exactly), (almost, exactly, period), (exactly, period, coinage), (period, coinage, invented), (coinage, invented, three), (invented, three, part), (three, part, world), (part, world, coin), (world, coin, first), (coin, first, invented), (first, invented, also), (invented, also, part), (also, part, world), (part, world, sage), (world, sage, lived), (sage, lived, fact), (lived, fact, became), (fact, became, epicenter), (became, epicenter, axial), (epicenter, axial, age), (axial, age, religious), (age, religious, philosophical), (religious, philosophical, creativity), (philosophical, creativity, drawing), (creativity, drawing, work), (drawing, work, classicist), (work, classicist, richard), (classicist, richard, seaford), (richard, seaford, literary), (seaford, literary, theorist), (literary, theorist, marc), (theorist, marc, relation), (marc, relation, coinage), (relation, coinage, early), (coinage, early, greek), (early, greek, thought), (greek, thought, graeber), (thought, graeber, argues), (graeber, argues, understanding), (argues, understanding, rise), (understanding, rise, market), (rise, market, necessary), (market, necessary, grasp), (necessary, grasp, context), (grasp, context, religious), (context, religious, philosophical), (religious, philosophical, insight), (philosophical, insight, axial), (insight, axial, age), (axial, age, arose), (age, arose, ultimate), (arose, ultimate, effect), (ultimate, effect, introduction), (effect, introduction, coinage), (introduction, coinage, argues), (coinage, argues, ideal), (argues, ideal, division), (ideal, division, sphere), (division, sphere, human), (sphere, human, activity), (human, activity, endures), (activity, endures, day), (endures, day, one), (day, one, hand), (one, hand, market), (hand, market, religion)]\n",
              "91531                                                                                                                                                                                                                                                                                                                                                                                                                                                                                                                                                                                                                                                                                                                                                                                                                                                                                                                                                 [(german, sociologist, max), (sociologist, max, weber), (max, weber, played), (weber, played, important), (played, important, role), (important, role, jasper), (role, jasper, thinking), (jasper, thinking, shmuel), (thinking, shmuel, eisenstadt), (shmuel, eisenstadt, argues), (eisenstadt, argues, introduction), (argues, introduction, origin), (introduction, origin, diversity), (origin, diversity, axial), (diversity, axial, age), (axial, age, civilization), (age, civilization, weber), (civilization, weber, work), (weber, work, religion), (work, religion, china), (religion, china, confucianism), (china, confucianism, taoism), (confucianism, taoism, religion), (taoism, religion, india), (religion, india, sociology), (india, sociology, hinduism), (sociology, hinduism, buddhism), (hinduism, buddhism, ancient), (buddhism, ancient, judaism), (ancient, judaism, provided), (judaism, provided, background), (provided, background, importance), (background, importance, period), (importance, period, note), (period, note, parallel), (note, parallel, eric), (parallel, eric, voegelin), (eric, voegelin, order), (voegelin, order, history), (order, history, wider), (history, wider, acknowledgement), (wider, acknowledgement, jasper), (acknowledgement, jasper, work), (jasper, work, came), (work, came, presented), (came, presented, conference), (presented, conference, published), (conference, published, daedalus), (published, daedalus, jasper), (daedalus, jasper, suggestion), (jasper, suggestion, period), (suggestion, period, uniquely), (period, uniquely, transformative), (uniquely, transformative, generated), (transformative, generated, important), (generated, important, discussion), (important, discussion, among), (discussion, among, scholar), (among, scholar, johann), (scholar, johann, arnason), (johann, arnason, literature), (arnason, literature, gore), (literature, gore, vidal), (gore, vidal, novel), (vidal, novel, creation), (novel, creation, cover), (creation, cover, much), (cover, much, axial), (much, axial, age), (axial, age, fictional), (age, fictional, perspective), (fictional, perspective, persian), (perspective, persian, adventurer)]\n",
              "91532                                                                                                                                                                                                                                                                                                                                                                                                                                                                                                                                                                                                                                                                                                                                                                                                                                                                                                                                                                                                                                                                                                                                                                                                                                                                                                                                                                                                                                                                                                                                                                                                                                                                                                                                                                                                                                                                                                                                                                                                                                                                                                                                                                                                                                                                                                                                                                                                                                                                                                                                                                                                 [(diarmaid, macculloch, called), (macculloch, called, jasper), (called, jasper, thesis), (jasper, thesis, baggy), (thesis, baggy, monster), (baggy, monster, try), (monster, try, bundle), (try, bundle, sort), (bundle, sort, diversity), (sort, diversity, four), (diversity, four, different), (four, different, civilisation), (different, civilisation, two), (civilisation, two, much), (two, much, contact), (much, contact, six), (contact, six, century), (six, century, adjustment), (century, adjustment, eventually), (adjustment, eventually, singled), (eventually, singled, bce)]\n",
              "91533                                                                                                                                                                                                                                                                                                                                                                                                                                                                                                                                                                                                                                                                                                                                                                                                                                                                                                                                                                                                                                                                                                                                                                                                                                                                                                                                                                                                                              [(contrary, suzuki, provan), (suzuki, provan, similar), (provan, similar, whitaker), (similar, whitaker, stephen), (whitaker, stephen, sanderson), (stephen, sanderson, published), (sanderson, published, another), (published, another, book), (another, book, dealing), (book, dealing, somewhat), (dealing, somewhat, axial), (somewhat, axial, age), (axial, age, religious), (age, religious, contribution), (religious, contribution, arguing), (contribution, arguing, religion), (arguing, religion, religious), (religion, religious, change), (religious, change, general), (change, general, essentially), (general, essentially, biosocial), (essentially, biosocial, adaptation), (biosocial, adaptation, changing), (adaptation, changing, environment), (changing, environment, collective), (environment, collective, history), (collective, history, axial), (history, axial, age), (axial, age, published), (age, published, generally), (published, generally, author), (generally, author, contested), (author, contested, existence), (contested, existence, identifiable), (existence, identifiable, axial), (identifiable, axial, age), (axial, age, confined), (age, confined, eurasian), (confined, eurasian, hotspot), (eurasian, hotspot, last), (hotspot, last, millennium), (last, millennium, bce), (millennium, bce, tended), (bce, tended, accept), (tended, accept, axiality), (accept, axiality, cluster), (axiality, cluster, trait), (cluster, trait, emerging), (trait, emerging, time), (emerging, time, whenever), (time, whenever, society), (whenever, society, reached), (society, reached, certain), (reached, certain, threshold), (certain, threshold, scale), (threshold, scale, level), (scale, level, complexity)]\n",
              "Name: trigrams, Length: 91534, dtype: object"
            ]
          },
          "execution_count": 100,
          "metadata": {},
          "output_type": "execute_result"
        }
      ],
      "source": [
        "df['trigrams']"
      ]
    },
    {
      "cell_type": "markdown",
      "metadata": {},
      "source": [
        "## IV.3. Selection of index\n"
      ]
    },
    {
      "cell_type": "markdown",
      "metadata": {},
      "source": [
        "### IV.3.1. Selection with TF-IDF\n"
      ]
    },
    {
      "cell_type": "code",
      "execution_count": 17,
      "metadata": {},
      "outputs": [
        {
          "name": "stdout",
          "output_type": "stream",
          "text": [
            "3\n"
          ]
        },
        {
          "data": {
            "text/plain": [
              "0              (macarthur, direct, command)\n",
              "1           (law, constitutional, monarchy)\n",
              "2                      (japan, order, scap)\n",
              "3           (government, occupation, force)\n",
              "4            (enduring, military, alliance)\n",
              "                        ...                \n",
              "91529       (emergence, codified, religion)\n",
              "91530              (hand, market, religion)\n",
              "91531    (perspective, persian, adventurer)\n",
              "91532            (eventually, singled, bce)\n",
              "91533            (scale, level, complexity)\n",
              "Name: 3gram_tf_idf, Length: 91534, dtype: object"
            ]
          },
          "execution_count": 17,
          "metadata": {},
          "output_type": "execute_result"
        }
      ],
      "source": [
        "df_idf = TD_IDF()\n",
        "df = df_idf.create_index_with_tf_idf(df)\n",
        "df[\"3gram_tf_idf\"]\n",
        "# df[df[\"index\"].str.contains(\"king\")][[\"theme\", \"paragraph\", \"source\", \"index\"]]"
      ]
    },
    {
      "cell_type": "markdown",
      "metadata": {},
      "source": [
        "### IV.3.2. Selection with BM25\n"
      ]
    },
    {
      "cell_type": "code",
      "execution_count": 18,
      "metadata": {},
      "outputs": [
        {
          "name": "stderr",
          "output_type": "stream",
          "text": [
            "  0%|          | 0/91534 [00:00<?, ?it/s]"
          ]
        },
        {
          "name": "stderr",
          "output_type": "stream",
          "text": [
            "100%|██████████| 91534/91534 [01:54<00:00, 799.01it/s] \n"
          ]
        },
        {
          "data": {
            "text/plain": [
              "0         (occupation, japan, declining)\n",
              "1             (japan, occupied, foreign)\n",
              "2              (npr, reorganized, japan)\n",
              "3        (government, occupation, force)\n",
              "4          (occupation, japan, usefully)\n",
              "                      ...               \n",
              "91529       (first, universal, religion)\n",
              "91530            (axial, age, religious)\n",
              "91531            (weber, work, religion)\n",
              "91532         (eventually, singled, bce)\n",
              "91533            (axial, age, published)\n",
              "Name: trigram_bm25, Length: 91534, dtype: object"
            ]
          },
          "execution_count": 18,
          "metadata": {},
          "output_type": "execute_result"
        }
      ],
      "source": [
        "df = create_index_with_bm25(df)\n",
        "df[\"trigram_bm25\"]"
      ]
    },
    {
      "cell_type": "markdown",
      "metadata": {},
      "source": [
        "### IV.3.3. Combinaision of all trigram as Index\n"
      ]
    },
    {
      "cell_type": "code",
      "execution_count": 19,
      "metadata": {},
      "outputs": [],
      "source": [
        "# combine the trigram with the highest TF-IDF score and the trigram with the highest BM25 score\n",
        "df[\"index\"] = df[\"3gram_tf_idf\"] + df[\"trigram_bm25\"]\n",
        "# delete the repeated words in the index\n",
        "df[\"index\"] = df[\"index\"].apply(lambda x: \" \".join(set(x)))"
      ]
    },
    {
      "cell_type": "code",
      "execution_count": 20,
      "metadata": {},
      "outputs": [
        {
          "data": {
            "text/plain": [
              "0         direct macarthur declining occupation japan command\n",
              "1          monarchy foreign occupied law constitutional japan\n",
              "2                            npr order reorganized scap japan\n",
              "3                                 force government occupation\n",
              "4        military usefully occupation japan alliance enduring\n",
              "                                 ...                         \n",
              "91529             religion first universal emergence codified\n",
              "91530                religion age market axial religious hand\n",
              "91531      religion persian perspective work weber adventurer\n",
              "91532                                  singled eventually bce\n",
              "91533              age complexity axial published level scale\n",
              "Name: index, Length: 91534, dtype: object"
            ]
          },
          "execution_count": 20,
          "metadata": {},
          "output_type": "execute_result"
        }
      ],
      "source": [
        "df[\"index\"]"
      ]
    },
    {
      "cell_type": "markdown",
      "metadata": {},
      "source": [
        "## IV.4. Creation of embedding\n"
      ]
    },
    {
      "cell_type": "code",
      "execution_count": 21,
      "metadata": {},
      "outputs": [
        {
          "name": "stderr",
          "output_type": "stream",
          "text": [
            "100%|██████████| 91534/91534 [17:26<00:00, 87.46it/s]\n",
            "100%|██████████| 91534/91534 [22:26<00:00, 67.99it/s]\n"
          ]
        }
      ],
      "source": [
        "embedding_computer = EmbeddingComputer()\n",
        "tqdm.pandas()\n",
        "\n",
        "df[\"index_embedding\"] = df[\"index\"].progress_apply(\n",
        "    lambda x: embedding_computer.compute_embedding(x))\n",
        "df[\"filtered_paragraph_embedding\"] = df[\"filtered_paragraph\"].progress_apply(\n",
        "    lambda x: embedding_computer.compute_embedding(x))"
      ]
    },
    {
      "cell_type": "markdown",
      "metadata": {},
      "source": [
        "## IV.5 Search with index\n"
      ]
    },
    {
      "cell_type": "markdown",
      "metadata": {},
      "source": [
        "### IV.5.1 Only with defaut index for BM25\n"
      ]
    },
    {
      "cell_type": "code",
      "execution_count": 62,
      "metadata": {},
      "outputs": [],
      "source": [
        "search_engine = SearchEngine(df)\n",
        "\n",
        "query = \"The influence of World War II to China\""
      ]
    },
    {
      "cell_type": "code",
      "execution_count": 64,
      "metadata": {},
      "outputs": [
        {
          "name": "stdout",
          "output_type": "stream",
          "text": [
            "Search with BM25 algorithm\n",
            "{22090: 1.0, 3010: 0.9068458476138808, 3053: 0.9068458476138808, 10103: 0.9068458476138808, 10375: 0.9068458476138808}\n"
          ]
        },
        {
          "data": {
            "text/plain": [
              "[('Korea under Japanese rule - Wikipedia',\n",
              "  'Another point of view is that it was only after the end of Japanese rule with World War II that Korea saw true, democratic rise in public education as evidenced by the rise of adult literacy rate from 22 percent in 1945 to 87.6 percent by 1970 and 93% by the late 1980s. Though public education was made available for elementary schools during Japanese rule, Korea as a country did not experience secondary-school enrollment rates comparable to those of Japan prior to the end of World War II.[201]'),\n",
              " ('United States Marine Corps - Wikipedia',\n",
              "  'In World War II, the Marines performed a central role in the Pacific War, along with the U.S. Army. The battles of Guadalcanal, Bougainville, Tarawa, Guam, Tinian, Cape Gloucester, Saipan, Peleliu, Iwo Jima, and Okinawa saw fierce fighting between marines and the Imperial Japanese Army. Some 600,000 Americans served in the U.S. Marine Corps in World War II.[62]'),\n",
              " ('Special Naval Landing Forces - Wikipedia',\n",
              "  'The Special Naval Landing Forces (SNLF; Japanese: 海軍特別陸戦隊, romanized:\\xa0Kaigun Tokubetsu Rikusentai) were naval infantry units of the Imperial Japanese Navy (IJN) and were a part of the IJN Land Forces. They saw extensive service in the Second Sino-Japanese War and the Pacific theatre of World War II.'),\n",
              " ('United States - Wikipedia',\n",
              "  'At first neutral during World War II, the U.S. began supplying war materiel to the Allies of World War II in March 1941 and entered the war in December after the Empire of Japan\\'s attack on Pearl Harbor.[134][135] The U.S. developed the first nuclear weapons and used them against the Japanese cities of Hiroshima and Nagasaki in August 1945, ending the war.[136][137] The United States was one of the \"Four Policemen\" who met to plan the postwar world, alongside the United Kingdom, Soviet Union, and China.[138][139] The U.S. emerged relatively unscathed from the war, with even greater economic and international political influence.[140]'),\n",
              " ('Korea under Japanese rule - Wikipedia',\n",
              "  'Japan did not draft ethnic Koreans into its military until 1944 when the tide of World War II turned against it. Until 1944, enlistment in the Imperial Japanese Army by ethnic Koreans was voluntary, and highly competitive. From a 14% acceptance rate in 1938, it dropped to a 2% acceptance rate in 1943 while the raw number of applicants increased from 3000 per annum to 300,000 in just five years during World War II.[96]')]"
            ]
          },
          "execution_count": 64,
          "metadata": {},
          "output_type": "execute_result"
        }
      ],
      "source": [
        "# \"bm25\", \"cos_sim_with_index\", \"cos_sim_with_filtered_paragraph\", \"both_with_index\", \"both_with_filtered_paragraph\"\n",
        "choice = \"bm25\"\n",
        "\n",
        "search_engine.search_by_choice(choice, query)"
      ]
    },
    {
      "cell_type": "markdown",
      "metadata": {},
      "source": [
        "We can see that by using only default index with BM25, the search is really quick but not really accurate enough, still with the cosine similarity, or combine the two, we can get a better result\n"
      ]
    },
    {
      "cell_type": "code",
      "execution_count": 65,
      "metadata": {},
      "outputs": [
        {
          "name": "stdout",
          "output_type": "stream",
          "text": [
            "Search with cosinus similarity with index\n"
          ]
        },
        {
          "name": "stdout",
          "output_type": "stream",
          "text": [
            "{702: tensor([[0.8810]]), 4597: tensor([[0.8645]]), 749: tensor([[0.8562]]), 5513: tensor([[0.8562]]), 4606: tensor([[0.8358]])}\n"
          ]
        },
        {
          "data": {
            "text/plain": [
              "[('Kwantung Army - Wikipedia',\n",
              "  'After the campaign to secure Manchukuo, the Kwantung Army continued to fight in numerous border skirmishes with China as part of its efforts to create a Japanese-dominated buffer zone in Northern China. The Kwantung Army also fought in Operation Nekka during the preceding phase of the Second Sino-Japanese War, and various actions in Inner Mongolia to extend Japanese domination over portions of northern China and Inner Mongolia. When full-scale war broke out in the Marco Polo Bridge Incident in July 1937, its forces participated in the Battle of Beiping-Tianjin and Operation Chahar. Later, Kwantung forces supported the war in China from time to time.'),\n",
              " ('Republic of China (1912–1949) - Wikipedia',\n",
              "  'In 1937, Japan invaded China and the resulting warfare laid waste to China. Most of the prosperous east coast was occupied by the Japanese, who committed atrocities such as the Nanjing massacre. In one anti-guerilla sweep in 1942, the Japanese killed up to 200,000 civilians in a month. The war was estimated to have killed between 20 and 25\\xa0million Chinese, and destroyed all that Chiang had built up in the preceding decade.[76] Development of industries was severely hampered after the war by devastating civil conflict as well as the inflow of cheap American goods. By 1946, Chinese industries operated at 20% capacity and had 25% of the output of pre-war China.[77]'),\n",
              " ('Nationalist government - Wikipedia',\n",
              "  'In 1937, Japan invaded China and the resulting warfare laid waste to China. Most of the prosperous east China coast was occupied by the Japanese, who carried out various atrocities such as the Rape of Nanjing in 1937 and random massacres of whole villages. In one anti-guerrilla sweep in 1942, the Japanese killed up to 200,000 civilians in a month. The war was estimated to have killed between 20 and 25 million Chinese and destroyed all that Chiang had built up in the preceding decade.[39] Development of industries was severely hampered after the war by devastating conflict as well as the inflow of cheap American goods. By 1946, Chinese industries operated at 20 percent capacity and had 25 percent of the output of pre-war China.[40]'),\n",
              " ('Republic of China (1912–1949) - Wikipedia',\n",
              "  \"World War II devastated China, leading to enormous loss of life and material destruction. The war between China and Japan continued until the surrender of Japan at the end of World War II in 1945, which led to Taiwan being placed under Chinese administration. In the aftermath of World War II, civil war resumed between the areas liberated by the KMT and those liberated by the CCP. The CCP's People's Liberation Army managed to defeat the larger and better-armed National Revolutionary Army due to better military tactics and corruption of the ROC leadership. In 1949, the ROC repeatedly moved its capital to avoid the Communist advance—first to Guangzhou, followed by Chongqing, Chengdu, and lastly, Taipei. In October 1949, the CCP established the PRC. Remnants of the ROC government would hang on in mainland China until late 1951.\"),\n",
              " ('China Expeditionary Army - Wikipedia',\n",
              "  'After the Lugou Bridge Incident, the Japanese China Garrison Army was reinforced with the Shanghai Expeditionary Army. This force was further supplemented by the Japanese Tenth Army, and marched inland from Shanghai to occupy Hangzhou. In October 1937, this force was renamed the Japanese Central China Area Army. After the fall of Nanking, the Central China Expeditionary Army was formed. On September 12, 1939 by Army Order 362, the China Expeditionary Army was formed with the merger of the Central China Expeditionary Army with the Northern China Area Army. It was headquartered in Nanjing throughout the Second Sino-Japanese War.')]"
            ]
          },
          "execution_count": 65,
          "metadata": {},
          "output_type": "execute_result"
        }
      ],
      "source": [
        "choice = \"cos_sim_with_index\"\n",
        "\n",
        "search_engine.search_by_choice(choice, query)"
      ]
    },
    {
      "cell_type": "markdown",
      "metadata": {},
      "source": [
        "It'a really good result\n"
      ]
    },
    {
      "cell_type": "code",
      "execution_count": 53,
      "metadata": {},
      "outputs": [
        {
          "name": "stdout",
          "output_type": "stream",
          "text": [
            "Search with cosinus similarity\n"
          ]
        },
        {
          "name": "stdout",
          "output_type": "stream",
          "text": [
            "{67016: tensor([[0.8094]]), 67021: tensor([[0.7719]]), 3764: tensor([[0.7627]]), 70058: tensor([[0.7576]]), 86619: tensor([[0.7504]])}\n"
          ]
        },
        {
          "data": {
            "text/plain": [
              "[('Japanese occupation of Hong Kong - Wikipedia',\n",
              "  \"During the Imperial Japanese military's full-scale invasion of China in 1937, Hong Kong as part of the British empire was not under attack. Nevertheless, its situation was influenced by the war in China due to proximity to the mainland China. In early March 1939, during an Imperial Japanese bombing raid on Shenzhen, a few bombs fell accidentally on Hong Kong territory, destroying a bridge and a train station.[7] The Second World War saw Hong Kong falling into the hands of the Japanese who transformed it into a military centre for their campaign in Asia. The British took back Hong Kong in 1945 after Japan's surrender, and the Chinese Civil War subsequently brought waves of rich and poor refugees from the mainland, providing both capital and cheap labour and building the foundation for Hong Kong later becoming one of the world's financial centres. However, in the 1950s during the Korean War, the United States banned trade with communist China, hurting Hong Kong's businesses and slowing its economic progress. As part of the Cultural Revolution in 1967, violent riots protesting against colonial power paralysed the economy and the Hong Kong stock market collapsed in 1973.\"),\n",
              " ('Shanghai - Wikipedia',\n",
              "  'The First Sino-Japanese War concluded with the 1895 Treaty of Shimonoseki, which elevated Japan to become another foreign power in Shanghai. Japan built the first factories in Shanghai, which was soon copied by other foreign powers. All this international activity gave Shanghai the nickname \"the Great Athens of China\".[43] In 1914, the Old City walls were dismantled because they blocked the city\\'s expansion. In July 1921, the Chinese Communist Party was founded in the French Concession.[39] On 30 May 1925, the May Thirtieth Movement broke out when a worker in a Japanese-owned cotton mill was shot and killed by a Japanese foreman.[44] Workers in the city then launched general strikes against imperialism, which became nationwide protests that gave rise to Chinese nationalism.[45]'),\n",
              " ('Chinese nationalism - Wikipedia',\n",
              "  'The Second Sino-Japanese war was one of the most important events in the modern construction of Chinese nationalism.[10] The Chinese experience in the war helped create an ideology based on the concept of “the people” as a political body in its own right, “a modern nation as opposed to a feudal empire.”[10]'),\n",
              " ('Chinese nationalism - Wikipedia',\n",
              "  'The effects of World War I continually shaped Chinese nationalism. Despite joining the Allied Powers, China was again severely humiliated by the Versailles Treaty of 1919 which transferred the special privileges given to Germany to the Empire of Japan. This resulted in the May Fourth Movement of 1919, which developed into nationwide protests that saw a surge of Chinese nationalism. Large-scale military campaigns led by the Kuomintang during the Warlord Era that overpowered provincial warlords and sharply reduced special privileges for foreigners helped further strengthen and aggrandize a sense of Chinese national identity.'),\n",
              " ('Northeast China - Wikipedia',\n",
              "  \"During the late Qing dynasty, Northeast China came under influence of the Russian Empire with the building of the Chinese Eastern Railway through Harbin to Vladivostok. The Empire of Japan replaced Russian influence in the region as a result of the Russo-Japanese War in 1904–1905, and Japan laid the South Manchurian Railway in 1906 to Port Arthur. During the Warlord Era in the Republic of China, Zhang Zuolin established himself in Northeast China, but was murdered by the Japanese for being too independent. The last Qing emperor, Puyi, was then placed on the throne to lead a Japanese puppet state of Manchukuo. After the atomic bombing of Japan in 1945, the Soviet Union invaded the region as part of its declaration of war against Japan. From 1945 to 1948, Northeast China was a base area for the Communist People's Liberation Army in the Chinese Civil War. With the encouragement of the Soviet Union, the area was used as a staging ground during the Civil War for the Chinese Communists, who were victorious in 1949 and have been controlling this region since.\")]"
            ]
          },
          "execution_count": 53,
          "metadata": {},
          "output_type": "execute_result"
        }
      ],
      "source": [
        "choice = \"cos_sim_with_filtered_paragraph\"\n",
        "\n",
        "search_engine.search_by_choice(choice, query)"
      ]
    },
    {
      "cell_type": "markdown",
      "metadata": {},
      "source": [
        "It'a really good result\n"
      ]
    },
    {
      "cell_type": "code",
      "execution_count": 57,
      "metadata": {},
      "outputs": [
        {
          "name": "stdout",
          "output_type": "stream",
          "text": [
            "Search with both BM25 and cosinus similarity with index\n"
          ]
        },
        {
          "data": {
            "image/png": "[encoded data removed]",
            "text/plain": [
              "<Figure size 640x480 with 1 Axes>"
            ]
          },
          "metadata": {},
          "output_type": "display_data"
        },
        {
          "name": "stdout",
          "output_type": "stream",
          "text": [
            "{702: tensor([[0.8930]]), 22090: tensor([[0.8690]]), 69822: tensor([[0.8584]]), 3010: tensor([[0.8018]]), 3053: tensor([[0.8018]])}\n"
          ]
        },
        {
          "data": {
            "text/plain": [
              "[('Korea under Japanese rule - Wikipedia',\n",
              "  'Japan did not draft ethnic Koreans into its military until 1944 when the tide of World War II turned against it. Until 1944, enlistment in the Imperial Japanese Army by ethnic Koreans was voluntary, and highly competitive. From a 14% acceptance rate in 1938, it dropped to a 2% acceptance rate in 1943 while the raw number of applicants increased from 3000 per annum to 300,000 in just five years during World War II.[96]'),\n",
              " ('Korea under Japanese rule - Wikipedia',\n",
              "  'Another point of view is that it was only after the end of Japanese rule with World War II that Korea saw true, democratic rise in public education as evidenced by the rise of adult literacy rate from 22 percent in 1945 to 87.6 percent by 1970 and 93% by the late 1980s. Though public education was made available for elementary schools during Japanese rule, Korea as a country did not experience secondary-school enrollment rates comparable to those of Japan prior to the end of World War II.[201]'),\n",
              " ('Chinese expansionism - Wikipedia',\n",
              "  \"When World War II broke out, nonetheless Chiang Kai-shek had sought to restore Chinese influence. Being a major ally and one of the Big Four, Chiang wanted to restore Chinese influence in Korea and Southeast Asia, in a vision for a new Asia under Chiang's command.[70][71] Once the World War II ended, Chiang Kai-shek started trying to implement the project, by sending troops to occupy northern Vietnam.[72] Yet, as the Chinese Civil War resumed, it had dented Chiang's desire, and he had to retreat most of his army to fight against the now-stronger communist force. Eventually, the Republic of China lost the war and was forced to retreat to Taiwan where it continues to rule today. The expansionist policy was succeeded by the communists which later proclaimed the People's Republic of China.\"),\n",
              " ('United States - Wikipedia',\n",
              "  'At first neutral during World War II, the U.S. began supplying war materiel to the Allies of World War II in March 1941 and entered the war in December after the Empire of Japan\\'s attack on Pearl Harbor.[134][135] The U.S. developed the first nuclear weapons and used them against the Japanese cities of Hiroshima and Nagasaki in August 1945, ending the war.[136][137] The United States was one of the \"Four Policemen\" who met to plan the postwar world, alongside the United Kingdom, Soviet Union, and China.[138][139] The U.S. emerged relatively unscathed from the war, with even greater economic and international political influence.[140]'),\n",
              " ('Republic of China (1912–1949) - Wikipedia',\n",
              "  \"World War II devastated China, leading to enormous loss of life and material destruction. The war between China and Japan continued until the surrender of Japan at the end of World War II in 1945, which led to Taiwan being placed under Chinese administration. In the aftermath of World War II, civil war resumed between the areas liberated by the KMT and those liberated by the CCP. The CCP's People's Liberation Army managed to defeat the larger and better-armed National Revolutionary Army due to better military tactics and corruption of the ROC leadership. In 1949, the ROC repeatedly moved its capital to avoid the Communist advance—first to Guangzhou, followed by Chongqing, Chengdu, and lastly, Taipei. In October 1949, the CCP established the PRC. Remnants of the ROC government would hang on in mainland China until late 1951.\")]"
            ]
          },
          "execution_count": 57,
          "metadata": {},
          "output_type": "execute_result"
        }
      ],
      "source": [
        "choice = \"both_with_index\"\n",
        "\n",
        "search_engine.search_by_choice(choice, query)"
      ]
    },
    {
      "cell_type": "code",
      "execution_count": 63,
      "metadata": {},
      "outputs": [
        {
          "name": "stdout",
          "output_type": "stream",
          "text": [
            "Search with both BM25 and cosinus similarity with filtered_paragraph\n"
          ]
        },
        {
          "data": {
            "image/png": "[encoded data removed]",
            "text/plain": [
              "<Figure size 640x480 with 1 Axes>"
            ]
          },
          "metadata": {},
          "output_type": "display_data"
        },
        {
          "name": "stdout",
          "output_type": "stream",
          "text": [
            "{22090: tensor([[0.8328]]), 702: tensor([[0.8097]]), 58325: tensor([[0.7860]]), 69822: tensor([[0.7845]]), 57392: tensor([[0.7337]])}\n"
          ]
        },
        {
          "data": {
            "text/plain": [
              "[('Inner Mongolia - Wikipedia',\n",
              "  'The history of Inner Mongolia during the Second World War is complicated, with Japanese invasion and different kinds of resistance movements. In 1931, Manchuria came under the control of the Japanese puppet state Manchukuo, taking some Mongol areas in the Manchurian provinces (i.e., Hulunbuir and Jirim leagues) along. Rehe was also incorporated into Manchukuo in 1933, taking Juu Uda and Josutu leagues along with it. These areas were occupied by Manchukuo until the end of World War II in 1945.'),\n",
              " ('World War II - Wikipedia',\n",
              "  \"World War II began in Europe on 1 September 1939[1][2] with the German invasion of Poland and the United Kingdom and France's declaration of war on Germany two days later on 3 September 1939. Dates for the beginning of the Pacific War include the start of the Second Sino-Japanese War on 7 July 1937,[3][4] or the earlier Japanese invasion of Manchuria, on 19 September 1931.[5][6] Others follow the British historian A. J. P. Taylor, who stated that the Sino-Japanese War and war in Europe and its colonies occurred simultaneously, and the two wars became World War II in 1941.[7] Other theorized starting dates for World War\\xa0II include the Italian invasion of Abyssinia on 3 October 1935.[8] The British historian Antony Beevor views the beginning of World War\\xa0II as the Battles of Khalkhin Gol fought between Japan and the forces of Mongolia and the Soviet Union from May to September 1939.[9] Others view the Spanish Civil War as the start or prelude to World War II.[10][11]\"),\n",
              " ('Chinese expansionism - Wikipedia',\n",
              "  \"When World War II broke out, nonetheless Chiang Kai-shek had sought to restore Chinese influence. Being a major ally and one of the Big Four, Chiang wanted to restore Chinese influence in Korea and Southeast Asia, in a vision for a new Asia under Chiang's command.[70][71] Once the World War II ended, Chiang Kai-shek started trying to implement the project, by sending troops to occupy northern Vietnam.[72] Yet, as the Chinese Civil War resumed, it had dented Chiang's desire, and he had to retreat most of his army to fight against the now-stronger communist force. Eventually, the Republic of China lost the war and was forced to retreat to Taiwan where it continues to rule today. The expansionist policy was succeeded by the communists which later proclaimed the People's Republic of China.\"),\n",
              " ('United States - Wikipedia',\n",
              "  'At first neutral during World War II, the U.S. began supplying war materiel to the Allies of World War II in March 1941 and entered the war in December after the Empire of Japan\\'s attack on Pearl Harbor.[134][135] The U.S. developed the first nuclear weapons and used them against the Japanese cities of Hiroshima and Nagasaki in August 1945, ending the war.[136][137] The United States was one of the \"Four Policemen\" who met to plan the postwar world, alongside the United Kingdom, Soviet Union, and China.[138][139] The U.S. emerged relatively unscathed from the war, with even greater economic and international political influence.[140]'),\n",
              " ('Republic of China (1912–1949) - Wikipedia',\n",
              "  \"World War II devastated China, leading to enormous loss of life and material destruction. The war between China and Japan continued until the surrender of Japan at the end of World War II in 1945, which led to Taiwan being placed under Chinese administration. In the aftermath of World War II, civil war resumed between the areas liberated by the KMT and those liberated by the CCP. The CCP's People's Liberation Army managed to defeat the larger and better-armed National Revolutionary Army due to better military tactics and corruption of the ROC leadership. In 1949, the ROC repeatedly moved its capital to avoid the Communist advance—first to Guangzhou, followed by Chongqing, Chengdu, and lastly, Taipei. In October 1949, the CCP established the PRC. Remnants of the ROC government would hang on in mainland China until late 1951.\")]"
            ]
          },
          "execution_count": 63,
          "metadata": {},
          "output_type": "execute_result"
        }
      ],
      "source": [
        "choice = \"both_with_filtered_paragraph\"\n",
        "\n",
        "search_engine.search_by_choice(choice, query)"
      ]
    },
    {
      "cell_type": "markdown",
      "metadata": {},
      "source": [
        "### IV.5.2 With added index (Comparasion with filterd paragraphs)\n"
      ]
    },
    {
      "cell_type": "markdown",
      "metadata": {},
      "source": [
        "#### IV.5.2.1 Basic search with index and cos_sim of filtered paragraphs\n"
      ]
    },
    {
      "cell_type": "code",
      "execution_count": 66,
      "metadata": {},
      "outputs": [
        {
          "name": "stdout",
          "output_type": "stream",
          "text": [
            "Search with cosinus similarity\n"
          ]
        },
        {
          "name": "stdout",
          "output_type": "stream",
          "text": [
            "{67016: tensor([[0.8094]]), 67021: tensor([[0.7719]]), 3764: tensor([[0.7627]]), 70058: tensor([[0.7576]]), 86619: tensor([[0.7504]])}\n"
          ]
        },
        {
          "data": {
            "text/plain": [
              "[('Japanese occupation of Hong Kong - Wikipedia',\n",
              "  \"During the Imperial Japanese military's full-scale invasion of China in 1937, Hong Kong as part of the British empire was not under attack. Nevertheless, its situation was influenced by the war in China due to proximity to the mainland China. In early March 1939, during an Imperial Japanese bombing raid on Shenzhen, a few bombs fell accidentally on Hong Kong territory, destroying a bridge and a train station.[7] The Second World War saw Hong Kong falling into the hands of the Japanese who transformed it into a military centre for their campaign in Asia. The British took back Hong Kong in 1945 after Japan's surrender, and the Chinese Civil War subsequently brought waves of rich and poor refugees from the mainland, providing both capital and cheap labour and building the foundation for Hong Kong later becoming one of the world's financial centres. However, in the 1950s during the Korean War, the United States banned trade with communist China, hurting Hong Kong's businesses and slowing its economic progress. As part of the Cultural Revolution in 1967, violent riots protesting against colonial power paralysed the economy and the Hong Kong stock market collapsed in 1973.\"),\n",
              " ('Shanghai - Wikipedia',\n",
              "  'The First Sino-Japanese War concluded with the 1895 Treaty of Shimonoseki, which elevated Japan to become another foreign power in Shanghai. Japan built the first factories in Shanghai, which was soon copied by other foreign powers. All this international activity gave Shanghai the nickname \"the Great Athens of China\".[43] In 1914, the Old City walls were dismantled because they blocked the city\\'s expansion. In July 1921, the Chinese Communist Party was founded in the French Concession.[39] On 30 May 1925, the May Thirtieth Movement broke out when a worker in a Japanese-owned cotton mill was shot and killed by a Japanese foreman.[44] Workers in the city then launched general strikes against imperialism, which became nationwide protests that gave rise to Chinese nationalism.[45]'),\n",
              " ('Chinese nationalism - Wikipedia',\n",
              "  'The Second Sino-Japanese war was one of the most important events in the modern construction of Chinese nationalism.[10] The Chinese experience in the war helped create an ideology based on the concept of “the people” as a political body in its own right, “a modern nation as opposed to a feudal empire.”[10]'),\n",
              " ('Chinese nationalism - Wikipedia',\n",
              "  'The effects of World War I continually shaped Chinese nationalism. Despite joining the Allied Powers, China was again severely humiliated by the Versailles Treaty of 1919 which transferred the special privileges given to Germany to the Empire of Japan. This resulted in the May Fourth Movement of 1919, which developed into nationwide protests that saw a surge of Chinese nationalism. Large-scale military campaigns led by the Kuomintang during the Warlord Era that overpowered provincial warlords and sharply reduced special privileges for foreigners helped further strengthen and aggrandize a sense of Chinese national identity.'),\n",
              " ('Northeast China - Wikipedia',\n",
              "  \"During the late Qing dynasty, Northeast China came under influence of the Russian Empire with the building of the Chinese Eastern Railway through Harbin to Vladivostok. The Empire of Japan replaced Russian influence in the region as a result of the Russo-Japanese War in 1904–1905, and Japan laid the South Manchurian Railway in 1906 to Port Arthur. During the Warlord Era in the Republic of China, Zhang Zuolin established himself in Northeast China, but was murdered by the Japanese for being too independent. The last Qing emperor, Puyi, was then placed on the throne to lead a Japanese puppet state of Manchukuo. After the atomic bombing of Japan in 1945, the Soviet Union invaded the region as part of its declaration of war against Japan. From 1945 to 1948, Northeast China was a base area for the Communist People's Liberation Army in the Chinese Civil War. With the encouragement of the Soviet Union, the area was used as a staging ground during the Civil War for the Chinese Communists, who were victorious in 1949 and have been controlling this region since.\")]"
            ]
          },
          "execution_count": 66,
          "metadata": {},
          "output_type": "execute_result"
        }
      ],
      "source": [
        "choice = \"cos_sim_with_filtered_paragraph\"\n",
        "\n",
        "search_engine.search_by_choice(choice, query)"
      ]
    },
    {
      "cell_type": "code",
      "execution_count": 67,
      "metadata": {},
      "outputs": [
        {
          "name": "stdout",
          "output_type": "stream",
          "text": [
            "Search with BM25 algorithm\n"
          ]
        },
        {
          "name": "stdout",
          "output_type": "stream",
          "text": [
            "{22090: 1.0, 3010: 0.9068458476138808, 3053: 0.9068458476138808, 10103: 0.9068458476138808, 10375: 0.9068458476138808}\n"
          ]
        },
        {
          "data": {
            "text/plain": [
              "[('Korea under Japanese rule - Wikipedia',\n",
              "  'Another point of view is that it was only after the end of Japanese rule with World War II that Korea saw true, democratic rise in public education as evidenced by the rise of adult literacy rate from 22 percent in 1945 to 87.6 percent by 1970 and 93% by the late 1980s. Though public education was made available for elementary schools during Japanese rule, Korea as a country did not experience secondary-school enrollment rates comparable to those of Japan prior to the end of World War II.[201]'),\n",
              " ('United States Marine Corps - Wikipedia',\n",
              "  'In World War II, the Marines performed a central role in the Pacific War, along with the U.S. Army. The battles of Guadalcanal, Bougainville, Tarawa, Guam, Tinian, Cape Gloucester, Saipan, Peleliu, Iwo Jima, and Okinawa saw fierce fighting between marines and the Imperial Japanese Army. Some 600,000 Americans served in the U.S. Marine Corps in World War II.[62]'),\n",
              " ('Special Naval Landing Forces - Wikipedia',\n",
              "  'The Special Naval Landing Forces (SNLF; Japanese: 海軍特別陸戦隊, romanized:\\xa0Kaigun Tokubetsu Rikusentai) were naval infantry units of the Imperial Japanese Navy (IJN) and were a part of the IJN Land Forces. They saw extensive service in the Second Sino-Japanese War and the Pacific theatre of World War II.'),\n",
              " ('United States - Wikipedia',\n",
              "  'At first neutral during World War II, the U.S. began supplying war materiel to the Allies of World War II in March 1941 and entered the war in December after the Empire of Japan\\'s attack on Pearl Harbor.[134][135] The U.S. developed the first nuclear weapons and used them against the Japanese cities of Hiroshima and Nagasaki in August 1945, ending the war.[136][137] The United States was one of the \"Four Policemen\" who met to plan the postwar world, alongside the United Kingdom, Soviet Union, and China.[138][139] The U.S. emerged relatively unscathed from the war, with even greater economic and international political influence.[140]'),\n",
              " ('Korea under Japanese rule - Wikipedia',\n",
              "  'Japan did not draft ethnic Koreans into its military until 1944 when the tide of World War II turned against it. Until 1944, enlistment in the Imperial Japanese Army by ethnic Koreans was voluntary, and highly competitive. From a 14% acceptance rate in 1938, it dropped to a 2% acceptance rate in 1943 while the raw number of applicants increased from 3000 per annum to 300,000 in just five years during World War II.[96]')]"
            ]
          },
          "execution_count": 67,
          "metadata": {},
          "output_type": "execute_result"
        }
      ],
      "source": [
        "choice = \"bm25\"\n",
        "\n",
        "search_engine.search_by_choice(choice, query)"
      ]
    },
    {
      "cell_type": "markdown",
      "metadata": {},
      "source": [
        "#### IV.5.2.1 Mixed indexed with other information\n"
      ]
    },
    {
      "cell_type": "markdown",
      "metadata": {},
      "source": [
        "##### IV.5.2.1.1 With filtered_page_title\n"
      ]
    },
    {
      "cell_type": "code",
      "execution_count": null,
      "metadata": {},
      "outputs": [],
      "source": [
        "search_engine.reset_search_index(\n",
        "    columns_used_to_rich_index=[\"filtered_page_title\"])"
      ]
    },
    {
      "cell_type": "code",
      "execution_count": 75,
      "metadata": {},
      "outputs": [
        {
          "name": "stdout",
          "output_type": "stream",
          "text": [
            "Search with BM25 algorithm\n",
            "{1208: 1.0, 1254: 1.0, 56698: 1.0, 1158: 0.9130941040587235, 3296: 0.9130941040587235}\n"
          ]
        },
        {
          "data": {
            "text/plain": [
              "[('Allies of World War II - Wikipedia',\n",
              "  \"Communist China had been tacitly supported by the Soviet Union since the 1920s: though the Soviet Union diplomatically recognised the Republic of China, Joseph Stalin supported cooperation between the Nationalists and the Communists—including pressuring the Nationalist Government to grant the Communists state and military positions in the government.[64] This was continued into the 1930s that fell in line with the Soviet Union's subversion policy of popular fronts to increase communists' influence in governments.[64]\"),\n",
              " ('Thailand in World War II - Wikipedia',\n",
              "  \"Thailand officially adopted a neutral position during World War II until the five hour-long Japanese invasion of Thailand on 8 December 1941, which led to an armistice and military alliance treaty between Thailand and the Japanese Empire in mid-December 1941. At the start of the Pacific War, the Japanese Empire pressured the Thai government to allow the passage of Japanese troops to invade British-held Malaya and Burma. After the invasion, Thailand capitulated. The Thai government under Plaek Phibunsongkhram (known simply as Phibun) considered it profitable to co-operate with the Japanese war efforts, since Thailand saw Japan – who promised to help Thailand regain some of the Indochinese territories (in today's Laos, Cambodia, and Vietnam) which had been lost to France – as an ally against Western imperialism. Following added pressure from the start of the Allied bombings of Bangkok due to the Japanese occupation, Axis-aligned Thailand declared war on the United Kingdom and the United States and annexed territories in neighbouring countries, expanding to the north, south, and east, gaining a border with China near Kengtung.[1]\"),\n",
              " ('Allies of World War II - Wikipedia',\n",
              "  \"Japan, which was a principal allied power in the First World War, had since become increasingly militaristic and imperialistic; parallel to Germany, nationalist sentiment increased throughout the 1920s, culminating in the invasion of Manchuria in 1931. The League of Nations strongly condemned the attack as an act of aggression against China; Japan responded by leaving the League in 1933. The second Sino-Japanese War erupted in 1937 with Japan's full-scale invasion of China. The League of Nations condemned Japan's actions and initiated sanctions; the United States, which had attempted to peacefully negotiate for peace in Asia, was especially angered by the invasion and sought to support China.\"),\n",
              " ('Sphere of influence - Wikipedia',\n",
              "  'The wartime spheres lacked a practical definition and it had never been determined if a dominant allied power was entitled to unilateral decisions only in the area of military activity, or could also force its will regarding political, social and economic future of other states. This overly informal system backfired during the late stages of the war and afterward, when it turned out that the Soviets and the Western Allies had very different ideas concerning the administration and future development of the liberated regions and of Germany itself.[29]'),\n",
              " ('Allies of World War II - Wikipedia',\n",
              "  'Mongolia fought against Japan during the Battles of Khalkhin Gol in 1939 and the Soviet–Japanese War in August 1945 to protect its independence and to liberate Southern Mongolia from Japan and China. Mongolia had been in the Soviet sphere of influence since the 1920s.')]"
            ]
          },
          "execution_count": 75,
          "metadata": {},
          "output_type": "execute_result"
        }
      ],
      "source": [
        "# ['filtered_page_title','filtered_h1','filtered_h2','filtered_h3','filtered_h4','filtered_h5','filtered_bold_words']\n",
        "\n",
        "search_engine.search_by_choice(choice, query)"
      ]
    },
    {
      "cell_type": "markdown",
      "metadata": {},
      "source": [
        "The first result is relevant but not other results\n"
      ]
    },
    {
      "cell_type": "markdown",
      "metadata": {},
      "source": [
        "##### IV.5.2.1.2 With filtered_bold_words\n"
      ]
    },
    {
      "cell_type": "code",
      "execution_count": 76,
      "metadata": {},
      "outputs": [],
      "source": [
        "search_engine.reset_search_index(\n",
        "    columns_used_to_rich_index=[\"filtered_bold_words\"])"
      ]
    },
    {
      "cell_type": "code",
      "execution_count": 77,
      "metadata": {},
      "outputs": [
        {
          "name": "stdout",
          "output_type": "stream",
          "text": [
            "Search with BM25 algorithm\n",
            "{22090: 1.0, 3010: 0.905631427207925, 3053: 0.905631427207925, 10375: 0.905631427207925, 16568: 0.905631427207925}\n"
          ]
        },
        {
          "data": {
            "text/plain": [
              "[('Battle of Iwo Jima - Wikipedia',\n",
              "  'The Medal of Honor was awarded to 22 Marines (12 posthumously), and 5 were presented to sailors, 4 of whom were hospital corpsmen (2 posthumously) attached to Marine infantry units. The medals awarded for the battle accounted for 28% of the 82 awarded to Marines in World War II.[74]'),\n",
              " ('Korea under Japanese rule - Wikipedia',\n",
              "  'Another point of view is that it was only after the end of Japanese rule with World War II that Korea saw true, democratic rise in public education as evidenced by the rise of adult literacy rate from 22 percent in 1945 to 87.6 percent by 1970 and 93% by the late 1980s. Though public education was made available for elementary schools during Japanese rule, Korea as a country did not experience secondary-school enrollment rates comparable to those of Japan prior to the end of World War II.[201]'),\n",
              " ('United States Marine Corps - Wikipedia',\n",
              "  'In World War II, the Marines performed a central role in the Pacific War, along with the U.S. Army. The battles of Guadalcanal, Bougainville, Tarawa, Guam, Tinian, Cape Gloucester, Saipan, Peleliu, Iwo Jima, and Okinawa saw fierce fighting between marines and the Imperial Japanese Army. Some 600,000 Americans served in the U.S. Marine Corps in World War II.[62]'),\n",
              " ('United States - Wikipedia',\n",
              "  'At first neutral during World War II, the U.S. began supplying war materiel to the Allies of World War II in March 1941 and entered the war in December after the Empire of Japan\\'s attack on Pearl Harbor.[134][135] The U.S. developed the first nuclear weapons and used them against the Japanese cities of Hiroshima and Nagasaki in August 1945, ending the war.[136][137] The United States was one of the \"Four Policemen\" who met to plan the postwar world, alongside the United Kingdom, Soviet Union, and China.[138][139] The U.S. emerged relatively unscathed from the war, with even greater economic and international political influence.[140]'),\n",
              " ('Korea under Japanese rule - Wikipedia',\n",
              "  'Japan did not draft ethnic Koreans into its military until 1944 when the tide of World War II turned against it. Until 1944, enlistment in the Imperial Japanese Army by ethnic Koreans was voluntary, and highly competitive. From a 14% acceptance rate in 1938, it dropped to a 2% acceptance rate in 1943 while the raw number of applicants increased from 3000 per annum to 300,000 in just five years during World War II.[96]')]"
            ]
          },
          "execution_count": 77,
          "metadata": {},
          "output_type": "execute_result"
        }
      ],
      "source": [
        "search_engine.search_by_choice(choice, query)"
      ]
    },
    {
      "cell_type": "markdown",
      "metadata": {},
      "source": [
        "The result is not related at all\n"
      ]
    },
    {
      "cell_type": "markdown",
      "metadata": {},
      "source": [
        "##### IV.5.2.1.3 With filtered_h1\n"
      ]
    },
    {
      "cell_type": "code",
      "execution_count": 78,
      "metadata": {},
      "outputs": [],
      "source": [
        "search_engine.reset_search_index(\n",
        "    columns_used_to_rich_index=[\"filtered_h1\"])"
      ]
    },
    {
      "cell_type": "code",
      "execution_count": 79,
      "metadata": {},
      "outputs": [
        {
          "name": "stdout",
          "output_type": "stream",
          "text": [
            "Search with BM25 algorithm\n",
            "{1208: 1.0, 1254: 1.0, 1158: 0.7524252127560256, 1201: 0.7524252127560256, 1152: 0.70680290213648}\n"
          ]
        },
        {
          "data": {
            "text/plain": [
              "[('Allies of World War II - Wikipedia',\n",
              "  \"Communist China had been tacitly supported by the Soviet Union since the 1920s: though the Soviet Union diplomatically recognised the Republic of China, Joseph Stalin supported cooperation between the Nationalists and the Communists—including pressuring the Nationalist Government to grant the Communists state and military positions in the government.[64] This was continued into the 1930s that fell in line with the Soviet Union's subversion policy of popular fronts to increase communists' influence in governments.[64]\"),\n",
              " ('Allies of World War II - Wikipedia',\n",
              "  \"Japan, which was a principal allied power in the First World War, had since become increasingly militaristic and imperialistic; parallel to Germany, nationalist sentiment increased throughout the 1920s, culminating in the invasion of Manchuria in 1931. The League of Nations strongly condemned the attack as an act of aggression against China; Japan responded by leaving the League in 1933. The second Sino-Japanese War erupted in 1937 with Japan's full-scale invasion of China. The League of Nations condemned Japan's actions and initiated sanctions; the United States, which had attempted to peacefully negotiate for peace in Asia, was especially angered by the invasion and sought to support China.\"),\n",
              " ('Allies of World War II - Wikipedia',\n",
              "  'Mongolia fought against Japan during the Battles of Khalkhin Gol in 1939 and the Soviet–Japanese War in August 1945 to protect its independence and to liberate Southern Mongolia from Japan and China. Mongolia had been in the Soviet sphere of influence since the 1920s.'),\n",
              " ('Allies of World War II - Wikipedia',\n",
              "  'In 1936 Chiang was forced to cease his anti-communist military campaigns after his kidnap and release by Zhang Xueliang, and reluctantly formed a nominal alliance with the Communists, while the Communists agreed to fight under the nominal command of the Nationalists against the Japanese. Following the Marco Polo Bridge Incident of 7 July 1937, China and Japan became embroiled in a full-scale war. The Soviet Union, wishing to keep China in the fight against Japan, supplied China with military assistance until 1941, when it signed a non-aggression pact with Japan.'),\n",
              " ('Allies of World War II - Wikipedia',\n",
              "  'The Allies, formally referred to as the United Nations from 1942, were an international military coalition formed during World War II (1939–1945) to oppose the Axis powers. Its principal members by the end of 1941 were the \"Big Four\" - United Kingdom, United States, Soviet Union, and China.')]"
            ]
          },
          "execution_count": 79,
          "metadata": {},
          "output_type": "execute_result"
        }
      ],
      "source": [
        "search_engine.search_by_choice(choice, query)"
      ]
    },
    {
      "cell_type": "markdown",
      "metadata": {},
      "source": [
        "We have 4 results related, so filtered_h1 helps a lot\n"
      ]
    },
    {
      "cell_type": "markdown",
      "metadata": {},
      "source": [
        "##### IV.5.2.1.4 With filtered_h2 and filtered_h1\n"
      ]
    },
    {
      "cell_type": "code",
      "execution_count": 80,
      "metadata": {},
      "outputs": [],
      "source": [
        "search_engine.reset_search_index(\n",
        "    columns_used_to_rich_index=[\"filtered_h1\", \"filtered_h2\"])"
      ]
    },
    {
      "cell_type": "code",
      "execution_count": 81,
      "metadata": {},
      "outputs": [
        {
          "name": "stdout",
          "output_type": "stream",
          "text": [
            "Search with BM25 algorithm\n",
            "{1152: 1.0, 3296: 1.0, 22090: 0.9433585900571815, 3299: 0.9287976039068458, 1254: 0.8967005580905504}\n"
          ]
        },
        {
          "data": {
            "text/plain": [
              "[('Thailand in World War II - Wikipedia',\n",
              "  \"Thailand officially adopted a neutral position during World War II until the five hour-long Japanese invasion of Thailand on 8 December 1941, which led to an armistice and military alliance treaty between Thailand and the Japanese Empire in mid-December 1941. At the start of the Pacific War, the Japanese Empire pressured the Thai government to allow the passage of Japanese troops to invade British-held Malaya and Burma. After the invasion, Thailand capitulated. The Thai government under Plaek Phibunsongkhram (known simply as Phibun) considered it profitable to co-operate with the Japanese war efforts, since Thailand saw Japan – who promised to help Thailand regain some of the Indochinese territories (in today's Laos, Cambodia, and Vietnam) which had been lost to France – as an ally against Western imperialism. Following added pressure from the start of the Allied bombings of Bangkok due to the Japanese occupation, Axis-aligned Thailand declared war on the United Kingdom and the United States and annexed territories in neighbouring countries, expanding to the north, south, and east, gaining a border with China near Kengtung.[1]\"),\n",
              " ('Allies of World War II - Wikipedia',\n",
              "  'Mongolia fought against Japan during the Battles of Khalkhin Gol in 1939 and the Soviet–Japanese War in August 1945 to protect its independence and to liberate Southern Mongolia from Japan and China. Mongolia had been in the Soviet sphere of influence since the 1920s.'),\n",
              " ('Thailand in World War II - Wikipedia',\n",
              "  'Thailand suffered around 5,569 military deaths during the war, almost entirely due to disease. Deaths in combat included 150 in the Shan States, 180 on 8 December 1941 (the day of both the brief Japanese invasion and the failed British assault on the Ledge), and 100 during the brief Franco-Thai War.[7][8]'),\n",
              " ('United States - Wikipedia',\n",
              "  'At first neutral during World War II, the U.S. began supplying war materiel to the Allies of World War II in March 1941 and entered the war in December after the Empire of Japan\\'s attack on Pearl Harbor.[134][135] The U.S. developed the first nuclear weapons and used them against the Japanese cities of Hiroshima and Nagasaki in August 1945, ending the war.[136][137] The United States was one of the \"Four Policemen\" who met to plan the postwar world, alongside the United Kingdom, Soviet Union, and China.[138][139] The U.S. emerged relatively unscathed from the war, with even greater economic and international political influence.[140]'),\n",
              " ('Allies of World War II - Wikipedia',\n",
              "  'The Allies, formally referred to as the United Nations from 1942, were an international military coalition formed during World War II (1939–1945) to oppose the Axis powers. Its principal members by the end of 1941 were the \"Big Four\" - United Kingdom, United States, Soviet Union, and China.')]"
            ]
          },
          "execution_count": 81,
          "metadata": {},
          "output_type": "execute_result"
        }
      ],
      "source": [
        "search_engine.search_by_choice(choice, query)"
      ]
    },
    {
      "cell_type": "markdown",
      "metadata": {},
      "source": [
        "1 result related but the result getting worse, it means the h2 do not help at all\n"
      ]
    },
    {
      "cell_type": "markdown",
      "metadata": {},
      "source": [
        "##### IV.5.2.1.4 With filtered_h1, filtered_h2 and filtered_h3\n"
      ]
    },
    {
      "cell_type": "code",
      "execution_count": 82,
      "metadata": {},
      "outputs": [],
      "source": [
        "search_engine.reset_search_index(\n",
        "    columns_used_to_rich_index=[\"filtered_h1\", \"filtered_h2\", \"filtered_h3\"])"
      ]
    },
    {
      "cell_type": "code",
      "execution_count": 83,
      "metadata": {},
      "outputs": [
        {
          "name": "stdout",
          "output_type": "stream",
          "text": [
            "Search with BM25 algorithm\n",
            "{1152: 1.0, 3296: 1.0, 37505: 1.0, 58325: 0.9511517964362298, 3299: 0.9000052807643847}\n"
          ]
        },
        {
          "data": {
            "text/plain": [
              "[('Inner Mongolia - Wikipedia',\n",
              "  'The history of Inner Mongolia during the Second World War is complicated, with Japanese invasion and different kinds of resistance movements. In 1931, Manchuria came under the control of the Japanese puppet state Manchukuo, taking some Mongol areas in the Manchurian provinces (i.e., Hulunbuir and Jirim leagues) along. Rehe was also incorporated into Manchukuo in 1933, taking Juu Uda and Josutu leagues along with it. These areas were occupied by Manchukuo until the end of World War II in 1945.'),\n",
              " ('Thailand in World War II - Wikipedia',\n",
              "  \"Thailand officially adopted a neutral position during World War II until the five hour-long Japanese invasion of Thailand on 8 December 1941, which led to an armistice and military alliance treaty between Thailand and the Japanese Empire in mid-December 1941. At the start of the Pacific War, the Japanese Empire pressured the Thai government to allow the passage of Japanese troops to invade British-held Malaya and Burma. After the invasion, Thailand capitulated. The Thai government under Plaek Phibunsongkhram (known simply as Phibun) considered it profitable to co-operate with the Japanese war efforts, since Thailand saw Japan – who promised to help Thailand regain some of the Indochinese territories (in today's Laos, Cambodia, and Vietnam) which had been lost to France – as an ally against Western imperialism. Following added pressure from the start of the Allied bombings of Bangkok due to the Japanese occupation, Axis-aligned Thailand declared war on the United Kingdom and the United States and annexed territories in neighbouring countries, expanding to the north, south, and east, gaining a border with China near Kengtung.[1]\"),\n",
              " ('Thailand in World War II - Wikipedia',\n",
              "  'Thailand suffered around 5,569 military deaths during the war, almost entirely due to disease. Deaths in combat included 150 in the Shan States, 180 on 8 December 1941 (the day of both the brief Japanese invasion and the failed British assault on the Ledge), and 100 during the brief Franco-Thai War.[7][8]'),\n",
              " ('China - Wikipedia',\n",
              "  \"On 1 January 1912, the Republic of China was established, and Sun Yat-sen of the Kuomintang (KMT) was proclaimed provisional president.[89] In March 1912, the presidency was given to Yuan Shikai, a former Qing general who in 1915 proclaimed himself Emperor of China. In the face of popular condemnation and opposition from his own Beiyang Army, he was forced to abdicate and re-establish the republic in 1916.[90] After Yuan Shikai's death in 1916, China was politically fragmented. Its Beijing-based government was internationally recognized but virtually powerless; regional warlords controlled most of its territory.[91][92]\"),\n",
              " ('Allies of World War II - Wikipedia',\n",
              "  'The Allies, formally referred to as the United Nations from 1942, were an international military coalition formed during World War II (1939–1945) to oppose the Axis powers. Its principal members by the end of 1941 were the \"Big Four\" - United Kingdom, United States, Soviet Union, and China.')]"
            ]
          },
          "execution_count": 83,
          "metadata": {},
          "output_type": "execute_result"
        }
      ],
      "source": [
        "search_engine.search_by_choice(choice, query)"
      ]
    },
    {
      "cell_type": "markdown",
      "metadata": {},
      "source": [
        "3 results related, it means the filtered_h3 helps to get a better result\n"
      ]
    },
    {
      "cell_type": "markdown",
      "metadata": {},
      "source": [
        "##### IV.5.2.1.5 With filtered_h1, filtered_h2, filtered_h3, filtered_h4\n"
      ]
    },
    {
      "cell_type": "code",
      "execution_count": 84,
      "metadata": {},
      "outputs": [],
      "source": [
        "search_engine.reset_search_index(\n",
        "    columns_used_to_rich_index=[\"filtered_h1\", \"filtered_h2\", \"filtered_h3\", \"filtered_h4\"])"
      ]
    },
    {
      "cell_type": "code",
      "execution_count": 85,
      "metadata": {},
      "outputs": [
        {
          "name": "stdout",
          "output_type": "stream",
          "text": [
            "Search with BM25 algorithm\n",
            "{1152: 1.0, 3296: 1.0, 37505: 1.0, 58325: 0.9517528922723958, 3299: 0.8950239879967202}\n"
          ]
        },
        {
          "data": {
            "text/plain": [
              "[('Inner Mongolia - Wikipedia',\n",
              "  'The history of Inner Mongolia during the Second World War is complicated, with Japanese invasion and different kinds of resistance movements. In 1931, Manchuria came under the control of the Japanese puppet state Manchukuo, taking some Mongol areas in the Manchurian provinces (i.e., Hulunbuir and Jirim leagues) along. Rehe was also incorporated into Manchukuo in 1933, taking Juu Uda and Josutu leagues along with it. These areas were occupied by Manchukuo until the end of World War II in 1945.'),\n",
              " ('Thailand in World War II - Wikipedia',\n",
              "  \"Thailand officially adopted a neutral position during World War II until the five hour-long Japanese invasion of Thailand on 8 December 1941, which led to an armistice and military alliance treaty between Thailand and the Japanese Empire in mid-December 1941. At the start of the Pacific War, the Japanese Empire pressured the Thai government to allow the passage of Japanese troops to invade British-held Malaya and Burma. After the invasion, Thailand capitulated. The Thai government under Plaek Phibunsongkhram (known simply as Phibun) considered it profitable to co-operate with the Japanese war efforts, since Thailand saw Japan – who promised to help Thailand regain some of the Indochinese territories (in today's Laos, Cambodia, and Vietnam) which had been lost to France – as an ally against Western imperialism. Following added pressure from the start of the Allied bombings of Bangkok due to the Japanese occupation, Axis-aligned Thailand declared war on the United Kingdom and the United States and annexed territories in neighbouring countries, expanding to the north, south, and east, gaining a border with China near Kengtung.[1]\"),\n",
              " ('Thailand in World War II - Wikipedia',\n",
              "  'Thailand suffered around 5,569 military deaths during the war, almost entirely due to disease. Deaths in combat included 150 in the Shan States, 180 on 8 December 1941 (the day of both the brief Japanese invasion and the failed British assault on the Ledge), and 100 during the brief Franco-Thai War.[7][8]'),\n",
              " ('China - Wikipedia',\n",
              "  \"On 1 January 1912, the Republic of China was established, and Sun Yat-sen of the Kuomintang (KMT) was proclaimed provisional president.[89] In March 1912, the presidency was given to Yuan Shikai, a former Qing general who in 1915 proclaimed himself Emperor of China. In the face of popular condemnation and opposition from his own Beiyang Army, he was forced to abdicate and re-establish the republic in 1916.[90] After Yuan Shikai's death in 1916, China was politically fragmented. Its Beijing-based government was internationally recognized but virtually powerless; regional warlords controlled most of its territory.[91][92]\"),\n",
              " ('Allies of World War II - Wikipedia',\n",
              "  'The Allies, formally referred to as the United Nations from 1942, were an international military coalition formed during World War II (1939–1945) to oppose the Axis powers. Its principal members by the end of 1941 were the \"Big Four\" - United Kingdom, United States, Soviet Union, and China.')]"
            ]
          },
          "execution_count": 85,
          "metadata": {},
          "output_type": "execute_result"
        }
      ],
      "source": [
        "search_engine.search_by_choice(choice, query)"
      ]
    },
    {
      "cell_type": "markdown",
      "metadata": {},
      "source": [
        "No changing, the filtered_h4 is nulllll\n"
      ]
    },
    {
      "cell_type": "markdown",
      "metadata": {},
      "source": [
        "##### IV.5.2.1.6 With filtered_h1, filtered_h2, filtered_h3, filtered_h4, filtered_h5\n"
      ]
    },
    {
      "cell_type": "code",
      "execution_count": 86,
      "metadata": {},
      "outputs": [],
      "source": [
        "search_engine.reset_search_index(\n",
        "    columns_used_to_rich_index=[\"filtered_h1\", \"filtered_h2\", \"filtered_h3\", \"filtered_h4\", \"filtered_h5\"])"
      ]
    },
    {
      "cell_type": "code",
      "execution_count": 87,
      "metadata": {},
      "outputs": [
        {
          "name": "stdout",
          "output_type": "stream",
          "text": [
            "Search with BM25 algorithm\n",
            "{1152: 1.0, 3296: 1.0, 37505: 1.0, 58325: 0.9517999357337158, 3299: 0.8946962220212987}\n"
          ]
        },
        {
          "data": {
            "text/plain": [
              "[('Inner Mongolia - Wikipedia',\n",
              "  'The history of Inner Mongolia during the Second World War is complicated, with Japanese invasion and different kinds of resistance movements. In 1931, Manchuria came under the control of the Japanese puppet state Manchukuo, taking some Mongol areas in the Manchurian provinces (i.e., Hulunbuir and Jirim leagues) along. Rehe was also incorporated into Manchukuo in 1933, taking Juu Uda and Josutu leagues along with it. These areas were occupied by Manchukuo until the end of World War II in 1945.'),\n",
              " ('Thailand in World War II - Wikipedia',\n",
              "  \"Thailand officially adopted a neutral position during World War II until the five hour-long Japanese invasion of Thailand on 8 December 1941, which led to an armistice and military alliance treaty between Thailand and the Japanese Empire in mid-December 1941. At the start of the Pacific War, the Japanese Empire pressured the Thai government to allow the passage of Japanese troops to invade British-held Malaya and Burma. After the invasion, Thailand capitulated. The Thai government under Plaek Phibunsongkhram (known simply as Phibun) considered it profitable to co-operate with the Japanese war efforts, since Thailand saw Japan – who promised to help Thailand regain some of the Indochinese territories (in today's Laos, Cambodia, and Vietnam) which had been lost to France – as an ally against Western imperialism. Following added pressure from the start of the Allied bombings of Bangkok due to the Japanese occupation, Axis-aligned Thailand declared war on the United Kingdom and the United States and annexed territories in neighbouring countries, expanding to the north, south, and east, gaining a border with China near Kengtung.[1]\"),\n",
              " ('Thailand in World War II - Wikipedia',\n",
              "  'Thailand suffered around 5,569 military deaths during the war, almost entirely due to disease. Deaths in combat included 150 in the Shan States, 180 on 8 December 1941 (the day of both the brief Japanese invasion and the failed British assault on the Ledge), and 100 during the brief Franco-Thai War.[7][8]'),\n",
              " ('China - Wikipedia',\n",
              "  \"On 1 January 1912, the Republic of China was established, and Sun Yat-sen of the Kuomintang (KMT) was proclaimed provisional president.[89] In March 1912, the presidency was given to Yuan Shikai, a former Qing general who in 1915 proclaimed himself Emperor of China. In the face of popular condemnation and opposition from his own Beiyang Army, he was forced to abdicate and re-establish the republic in 1916.[90] After Yuan Shikai's death in 1916, China was politically fragmented. Its Beijing-based government was internationally recognized but virtually powerless; regional warlords controlled most of its territory.[91][92]\"),\n",
              " ('Allies of World War II - Wikipedia',\n",
              "  'The Allies, formally referred to as the United Nations from 1942, were an international military coalition formed during World War II (1939–1945) to oppose the Axis powers. Its principal members by the end of 1941 were the \"Big Four\" - United Kingdom, United States, Soviet Union, and China.')]"
            ]
          },
          "execution_count": 87,
          "metadata": {},
          "output_type": "execute_result"
        }
      ],
      "source": [
        "search_engine.search_by_choice(choice, query)"
      ]
    },
    {
      "cell_type": "markdown",
      "metadata": {},
      "source": [
        "No changing, the filtered_h5 is nulllll\n"
      ]
    },
    {
      "cell_type": "markdown",
      "metadata": {},
      "source": [
        "##### IV.5.2.1.7 With filtered_h1, filtered_h3 and filtered_page_title\n"
      ]
    },
    {
      "cell_type": "code",
      "execution_count": 96,
      "metadata": {},
      "outputs": [],
      "source": [
        "search_engine.reset_search_index(\n",
        "    columns_used_to_rich_index=['filtered_page_title', 'filtered_h1', 'filtered_h3',])"
      ]
    },
    {
      "cell_type": "code",
      "execution_count": 97,
      "metadata": {},
      "outputs": [
        {
          "name": "stdout",
          "output_type": "stream",
          "text": [
            "Search with BM25 algorithm\n",
            "{1208: 1.0, 1254: 1.0, 56698: 0.9027964747872669, 1158: 0.82321196712327, 56697: 0.787914390328596}\n"
          ]
        },
        {
          "data": {
            "text/plain": [
              "[('Sphere of influence - Wikipedia',\n",
              "  'From 1941 and the German attack on the Soviet Union, the Allied Coalition operated on the unwritten assumption that the Western Powers and the Soviet Union had each its own sphere of influence. The presumption of the US-British and Soviet unrestricted rights in their respective spheres began to cause difficulties as the Nazi-controlled territory shrank and the allied powers successively liberated other states.[29]'),\n",
              " ('Allies of World War II - Wikipedia',\n",
              "  \"Communist China had been tacitly supported by the Soviet Union since the 1920s: though the Soviet Union diplomatically recognised the Republic of China, Joseph Stalin supported cooperation between the Nationalists and the Communists—including pressuring the Nationalist Government to grant the Communists state and military positions in the government.[64] This was continued into the 1930s that fell in line with the Soviet Union's subversion policy of popular fronts to increase communists' influence in governments.[64]\"),\n",
              " ('Allies of World War II - Wikipedia',\n",
              "  \"Japan, which was a principal allied power in the First World War, had since become increasingly militaristic and imperialistic; parallel to Germany, nationalist sentiment increased throughout the 1920s, culminating in the invasion of Manchuria in 1931. The League of Nations strongly condemned the attack as an act of aggression against China; Japan responded by leaving the League in 1933. The second Sino-Japanese War erupted in 1937 with Japan's full-scale invasion of China. The League of Nations condemned Japan's actions and initiated sanctions; the United States, which had attempted to peacefully negotiate for peace in Asia, was especially angered by the invasion and sought to support China.\"),\n",
              " ('Sphere of influence - Wikipedia',\n",
              "  'The wartime spheres lacked a practical definition and it had never been determined if a dominant allied power was entitled to unilateral decisions only in the area of military activity, or could also force its will regarding political, social and economic future of other states. This overly informal system backfired during the late stages of the war and afterward, when it turned out that the Soviets and the Western Allies had very different ideas concerning the administration and future development of the liberated regions and of Germany itself.[29]'),\n",
              " ('Allies of World War II - Wikipedia',\n",
              "  'Mongolia fought against Japan during the Battles of Khalkhin Gol in 1939 and the Soviet–Japanese War in August 1945 to protect its independence and to liberate Southern Mongolia from Japan and China. Mongolia had been in the Soviet sphere of influence since the 1920s.')]"
            ]
          },
          "execution_count": 97,
          "metadata": {},
          "output_type": "execute_result"
        }
      ],
      "source": [
        "search_engine.search_by_choice(choice, query)"
      ]
    },
    {
      "cell_type": "markdown",
      "metadata": {},
      "source": [
        "The best results getted\n"
      ]
    },
    {
      "cell_type": "markdown",
      "metadata": {},
      "source": [
        "# V. Save the DataFrame\n"
      ]
    },
    {
      "cell_type": "code",
      "execution_count": 99,
      "metadata": {},
      "outputs": [
        {
          "ename": "KeyboardInterrupt",
          "evalue": "",
          "output_type": "error",
          "traceback": [
            "\u001b[1;31m---------------------------------------------------------------------------\u001b[0m",
            "\u001b[1;31mKeyboardInterrupt\u001b[0m                         Traceback (most recent call last)",
            "Cell \u001b[1;32mIn[99], line 2\u001b[0m\n\u001b[0;32m      1\u001b[0m \u001b[38;5;66;03m# save df\u001b[39;00m\n\u001b[1;32m----> 2\u001b[0m \u001b[43mdf\u001b[49m\u001b[38;5;241;43m.\u001b[39;49m\u001b[43mto_csv\u001b[49m\u001b[43m(\u001b[49m\u001b[38;5;124;43m\"\u001b[39;49m\u001b[38;5;124;43mwikipedia_dataset_cleaned.csv\u001b[39;49m\u001b[38;5;124;43m\"\u001b[39;49m\u001b[43m,\u001b[49m\u001b[43m \u001b[49m\u001b[43mindex\u001b[49m\u001b[38;5;241;43m=\u001b[39;49m\u001b[38;5;28;43;01mFalse\u001b[39;49;00m\u001b[43m)\u001b[49m\n",
            "File \u001b[1;32me:\\anaconda3\\lib\\site-packages\\pandas\\util\\_decorators.py:211\u001b[0m, in \u001b[0;36mdeprecate_kwarg.<locals>._deprecate_kwarg.<locals>.wrapper\u001b[1;34m(*args, **kwargs)\u001b[0m\n\u001b[0;32m    209\u001b[0m     \u001b[38;5;28;01melse\u001b[39;00m:\n\u001b[0;32m    210\u001b[0m         kwargs[new_arg_name] \u001b[38;5;241m=\u001b[39m new_arg_value\n\u001b[1;32m--> 211\u001b[0m \u001b[38;5;28;01mreturn\u001b[39;00m func(\u001b[38;5;241m*\u001b[39margs, \u001b[38;5;241m*\u001b[39m\u001b[38;5;241m*\u001b[39mkwargs)\n",
            "File \u001b[1;32me:\\anaconda3\\lib\\site-packages\\pandas\\core\\generic.py:3720\u001b[0m, in \u001b[0;36mNDFrame.to_csv\u001b[1;34m(self, path_or_buf, sep, na_rep, float_format, columns, header, index, index_label, mode, encoding, compression, quoting, quotechar, lineterminator, chunksize, date_format, doublequote, escapechar, decimal, errors, storage_options)\u001b[0m\n\u001b[0;32m   3709\u001b[0m df \u001b[38;5;241m=\u001b[39m \u001b[38;5;28mself\u001b[39m \u001b[38;5;28;01mif\u001b[39;00m \u001b[38;5;28misinstance\u001b[39m(\u001b[38;5;28mself\u001b[39m, ABCDataFrame) \u001b[38;5;28;01melse\u001b[39;00m \u001b[38;5;28mself\u001b[39m\u001b[38;5;241m.\u001b[39mto_frame()\n\u001b[0;32m   3711\u001b[0m formatter \u001b[38;5;241m=\u001b[39m DataFrameFormatter(\n\u001b[0;32m   3712\u001b[0m     frame\u001b[38;5;241m=\u001b[39mdf,\n\u001b[0;32m   3713\u001b[0m     header\u001b[38;5;241m=\u001b[39mheader,\n\u001b[1;32m   (...)\u001b[0m\n\u001b[0;32m   3717\u001b[0m     decimal\u001b[38;5;241m=\u001b[39mdecimal,\n\u001b[0;32m   3718\u001b[0m )\n\u001b[1;32m-> 3720\u001b[0m \u001b[38;5;28;01mreturn\u001b[39;00m \u001b[43mDataFrameRenderer\u001b[49m\u001b[43m(\u001b[49m\u001b[43mformatter\u001b[49m\u001b[43m)\u001b[49m\u001b[38;5;241;43m.\u001b[39;49m\u001b[43mto_csv\u001b[49m\u001b[43m(\u001b[49m\n\u001b[0;32m   3721\u001b[0m \u001b[43m    \u001b[49m\u001b[43mpath_or_buf\u001b[49m\u001b[43m,\u001b[49m\n\u001b[0;32m   3722\u001b[0m \u001b[43m    \u001b[49m\u001b[43mlineterminator\u001b[49m\u001b[38;5;241;43m=\u001b[39;49m\u001b[43mlineterminator\u001b[49m\u001b[43m,\u001b[49m\n\u001b[0;32m   3723\u001b[0m \u001b[43m    \u001b[49m\u001b[43msep\u001b[49m\u001b[38;5;241;43m=\u001b[39;49m\u001b[43msep\u001b[49m\u001b[43m,\u001b[49m\n\u001b[0;32m   3724\u001b[0m \u001b[43m    \u001b[49m\u001b[43mencoding\u001b[49m\u001b[38;5;241;43m=\u001b[39;49m\u001b[43mencoding\u001b[49m\u001b[43m,\u001b[49m\n\u001b[0;32m   3725\u001b[0m \u001b[43m    \u001b[49m\u001b[43merrors\u001b[49m\u001b[38;5;241;43m=\u001b[39;49m\u001b[43merrors\u001b[49m\u001b[43m,\u001b[49m\n\u001b[0;32m   3726\u001b[0m \u001b[43m    \u001b[49m\u001b[43mcompression\u001b[49m\u001b[38;5;241;43m=\u001b[39;49m\u001b[43mcompression\u001b[49m\u001b[43m,\u001b[49m\n\u001b[0;32m   3727\u001b[0m \u001b[43m    \u001b[49m\u001b[43mquoting\u001b[49m\u001b[38;5;241;43m=\u001b[39;49m\u001b[43mquoting\u001b[49m\u001b[43m,\u001b[49m\n\u001b[0;32m   3728\u001b[0m \u001b[43m    \u001b[49m\u001b[43mcolumns\u001b[49m\u001b[38;5;241;43m=\u001b[39;49m\u001b[43mcolumns\u001b[49m\u001b[43m,\u001b[49m\n\u001b[0;32m   3729\u001b[0m \u001b[43m    \u001b[49m\u001b[43mindex_label\u001b[49m\u001b[38;5;241;43m=\u001b[39;49m\u001b[43mindex_label\u001b[49m\u001b[43m,\u001b[49m\n\u001b[0;32m   3730\u001b[0m \u001b[43m    \u001b[49m\u001b[43mmode\u001b[49m\u001b[38;5;241;43m=\u001b[39;49m\u001b[43mmode\u001b[49m\u001b[43m,\u001b[49m\n\u001b[0;32m   3731\u001b[0m \u001b[43m    \u001b[49m\u001b[43mchunksize\u001b[49m\u001b[38;5;241;43m=\u001b[39;49m\u001b[43mchunksize\u001b[49m\u001b[43m,\u001b[49m\n\u001b[0;32m   3732\u001b[0m \u001b[43m    \u001b[49m\u001b[43mquotechar\u001b[49m\u001b[38;5;241;43m=\u001b[39;49m\u001b[43mquotechar\u001b[49m\u001b[43m,\u001b[49m\n\u001b[0;32m   3733\u001b[0m \u001b[43m    \u001b[49m\u001b[43mdate_format\u001b[49m\u001b[38;5;241;43m=\u001b[39;49m\u001b[43mdate_format\u001b[49m\u001b[43m,\u001b[49m\n\u001b[0;32m   3734\u001b[0m \u001b[43m    \u001b[49m\u001b[43mdoublequote\u001b[49m\u001b[38;5;241;43m=\u001b[39;49m\u001b[43mdoublequote\u001b[49m\u001b[43m,\u001b[49m\n\u001b[0;32m   3735\u001b[0m \u001b[43m    \u001b[49m\u001b[43mescapechar\u001b[49m\u001b[38;5;241;43m=\u001b[39;49m\u001b[43mescapechar\u001b[49m\u001b[43m,\u001b[49m\n\u001b[0;32m   3736\u001b[0m \u001b[43m    \u001b[49m\u001b[43mstorage_options\u001b[49m\u001b[38;5;241;43m=\u001b[39;49m\u001b[43mstorage_options\u001b[49m\u001b[43m,\u001b[49m\n\u001b[0;32m   3737\u001b[0m \u001b[43m\u001b[49m\u001b[43m)\u001b[49m\n",
            "File \u001b[1;32me:\\anaconda3\\lib\\site-packages\\pandas\\util\\_decorators.py:211\u001b[0m, in \u001b[0;36mdeprecate_kwarg.<locals>._deprecate_kwarg.<locals>.wrapper\u001b[1;34m(*args, **kwargs)\u001b[0m\n\u001b[0;32m    209\u001b[0m     \u001b[38;5;28;01melse\u001b[39;00m:\n\u001b[0;32m    210\u001b[0m         kwargs[new_arg_name] \u001b[38;5;241m=\u001b[39m new_arg_value\n\u001b[1;32m--> 211\u001b[0m \u001b[38;5;28;01mreturn\u001b[39;00m func(\u001b[38;5;241m*\u001b[39margs, \u001b[38;5;241m*\u001b[39m\u001b[38;5;241m*\u001b[39mkwargs)\n",
            "File \u001b[1;32me:\\anaconda3\\lib\\site-packages\\pandas\\io\\formats\\format.py:1189\u001b[0m, in \u001b[0;36mDataFrameRenderer.to_csv\u001b[1;34m(self, path_or_buf, encoding, sep, columns, index_label, mode, compression, quoting, quotechar, lineterminator, chunksize, date_format, doublequote, escapechar, errors, storage_options)\u001b[0m\n\u001b[0;32m   1168\u001b[0m     created_buffer \u001b[38;5;241m=\u001b[39m \u001b[38;5;28;01mFalse\u001b[39;00m\n\u001b[0;32m   1170\u001b[0m csv_formatter \u001b[38;5;241m=\u001b[39m CSVFormatter(\n\u001b[0;32m   1171\u001b[0m     path_or_buf\u001b[38;5;241m=\u001b[39mpath_or_buf,\n\u001b[0;32m   1172\u001b[0m     lineterminator\u001b[38;5;241m=\u001b[39mlineterminator,\n\u001b[1;32m   (...)\u001b[0m\n\u001b[0;32m   1187\u001b[0m     formatter\u001b[38;5;241m=\u001b[39m\u001b[38;5;28mself\u001b[39m\u001b[38;5;241m.\u001b[39mfmt,\n\u001b[0;32m   1188\u001b[0m )\n\u001b[1;32m-> 1189\u001b[0m \u001b[43mcsv_formatter\u001b[49m\u001b[38;5;241;43m.\u001b[39;49m\u001b[43msave\u001b[49m\u001b[43m(\u001b[49m\u001b[43m)\u001b[49m\n\u001b[0;32m   1191\u001b[0m \u001b[38;5;28;01mif\u001b[39;00m created_buffer:\n\u001b[0;32m   1192\u001b[0m     \u001b[38;5;28;01massert\u001b[39;00m \u001b[38;5;28misinstance\u001b[39m(path_or_buf, StringIO)\n",
            "File \u001b[1;32me:\\anaconda3\\lib\\site-packages\\pandas\\io\\formats\\csvs.py:261\u001b[0m, in \u001b[0;36mCSVFormatter.save\u001b[1;34m(self)\u001b[0m\n\u001b[0;32m    241\u001b[0m \u001b[38;5;28;01mwith\u001b[39;00m get_handle(\n\u001b[0;32m    242\u001b[0m     \u001b[38;5;28mself\u001b[39m\u001b[38;5;241m.\u001b[39mfilepath_or_buffer,\n\u001b[0;32m    243\u001b[0m     \u001b[38;5;28mself\u001b[39m\u001b[38;5;241m.\u001b[39mmode,\n\u001b[1;32m   (...)\u001b[0m\n\u001b[0;32m    249\u001b[0m \n\u001b[0;32m    250\u001b[0m     \u001b[38;5;66;03m# Note: self.encoding is irrelevant here\u001b[39;00m\n\u001b[0;32m    251\u001b[0m     \u001b[38;5;28mself\u001b[39m\u001b[38;5;241m.\u001b[39mwriter \u001b[38;5;241m=\u001b[39m csvlib\u001b[38;5;241m.\u001b[39mwriter(\n\u001b[0;32m    252\u001b[0m         handles\u001b[38;5;241m.\u001b[39mhandle,\n\u001b[0;32m    253\u001b[0m         lineterminator\u001b[38;5;241m=\u001b[39m\u001b[38;5;28mself\u001b[39m\u001b[38;5;241m.\u001b[39mlineterminator,\n\u001b[1;32m   (...)\u001b[0m\n\u001b[0;32m    258\u001b[0m         quotechar\u001b[38;5;241m=\u001b[39m\u001b[38;5;28mself\u001b[39m\u001b[38;5;241m.\u001b[39mquotechar,\n\u001b[0;32m    259\u001b[0m     )\n\u001b[1;32m--> 261\u001b[0m     \u001b[38;5;28;43mself\u001b[39;49m\u001b[38;5;241;43m.\u001b[39;49m\u001b[43m_save\u001b[49m\u001b[43m(\u001b[49m\u001b[43m)\u001b[49m\n",
            "File \u001b[1;32me:\\anaconda3\\lib\\site-packages\\pandas\\io\\formats\\csvs.py:266\u001b[0m, in \u001b[0;36mCSVFormatter._save\u001b[1;34m(self)\u001b[0m\n\u001b[0;32m    264\u001b[0m \u001b[38;5;28;01mif\u001b[39;00m \u001b[38;5;28mself\u001b[39m\u001b[38;5;241m.\u001b[39m_need_to_save_header:\n\u001b[0;32m    265\u001b[0m     \u001b[38;5;28mself\u001b[39m\u001b[38;5;241m.\u001b[39m_save_header()\n\u001b[1;32m--> 266\u001b[0m \u001b[38;5;28;43mself\u001b[39;49m\u001b[38;5;241;43m.\u001b[39;49m\u001b[43m_save_body\u001b[49m\u001b[43m(\u001b[49m\u001b[43m)\u001b[49m\n",
            "File \u001b[1;32me:\\anaconda3\\lib\\site-packages\\pandas\\io\\formats\\csvs.py:304\u001b[0m, in \u001b[0;36mCSVFormatter._save_body\u001b[1;34m(self)\u001b[0m\n\u001b[0;32m    302\u001b[0m \u001b[38;5;28;01mif\u001b[39;00m start_i \u001b[38;5;241m>\u001b[39m\u001b[38;5;241m=\u001b[39m end_i:\n\u001b[0;32m    303\u001b[0m     \u001b[38;5;28;01mbreak\u001b[39;00m\n\u001b[1;32m--> 304\u001b[0m \u001b[38;5;28;43mself\u001b[39;49m\u001b[38;5;241;43m.\u001b[39;49m\u001b[43m_save_chunk\u001b[49m\u001b[43m(\u001b[49m\u001b[43mstart_i\u001b[49m\u001b[43m,\u001b[49m\u001b[43m \u001b[49m\u001b[43mend_i\u001b[49m\u001b[43m)\u001b[49m\n",
            "File \u001b[1;32me:\\anaconda3\\lib\\site-packages\\pandas\\io\\formats\\csvs.py:315\u001b[0m, in \u001b[0;36mCSVFormatter._save_chunk\u001b[1;34m(self, start_i, end_i)\u001b[0m\n\u001b[0;32m    312\u001b[0m data \u001b[38;5;241m=\u001b[39m [res\u001b[38;5;241m.\u001b[39miget_values(i) \u001b[38;5;28;01mfor\u001b[39;00m i \u001b[38;5;129;01min\u001b[39;00m \u001b[38;5;28mrange\u001b[39m(\u001b[38;5;28mlen\u001b[39m(res\u001b[38;5;241m.\u001b[39mitems))]\n\u001b[0;32m    314\u001b[0m ix \u001b[38;5;241m=\u001b[39m \u001b[38;5;28mself\u001b[39m\u001b[38;5;241m.\u001b[39mdata_index[slicer]\u001b[38;5;241m.\u001b[39m_format_native_types(\u001b[38;5;241m*\u001b[39m\u001b[38;5;241m*\u001b[39m\u001b[38;5;28mself\u001b[39m\u001b[38;5;241m.\u001b[39m_number_format)\n\u001b[1;32m--> 315\u001b[0m \u001b[43mlibwriters\u001b[49m\u001b[38;5;241;43m.\u001b[39;49m\u001b[43mwrite_csv_rows\u001b[49m\u001b[43m(\u001b[49m\n\u001b[0;32m    316\u001b[0m \u001b[43m    \u001b[49m\u001b[43mdata\u001b[49m\u001b[43m,\u001b[49m\n\u001b[0;32m    317\u001b[0m \u001b[43m    \u001b[49m\u001b[43mix\u001b[49m\u001b[43m,\u001b[49m\n\u001b[0;32m    318\u001b[0m \u001b[43m    \u001b[49m\u001b[38;5;28;43mself\u001b[39;49m\u001b[38;5;241;43m.\u001b[39;49m\u001b[43mnlevels\u001b[49m\u001b[43m,\u001b[49m\n\u001b[0;32m    319\u001b[0m \u001b[43m    \u001b[49m\u001b[38;5;28;43mself\u001b[39;49m\u001b[38;5;241;43m.\u001b[39;49m\u001b[43mcols\u001b[49m\u001b[43m,\u001b[49m\n\u001b[0;32m    320\u001b[0m \u001b[43m    \u001b[49m\u001b[38;5;28;43mself\u001b[39;49m\u001b[38;5;241;43m.\u001b[39;49m\u001b[43mwriter\u001b[49m\u001b[43m,\u001b[49m\n\u001b[0;32m    321\u001b[0m \u001b[43m\u001b[49m\u001b[43m)\u001b[49m\n",
            "File \u001b[1;32me:\\anaconda3\\lib\\site-packages\\pandas\\_libs\\writers.pyx:72\u001b[0m, in \u001b[0;36mpandas._libs.writers.write_csv_rows\u001b[1;34m()\u001b[0m\n",
            "File \u001b[1;32m~\\AppData\\Roaming\\Python\\Python39\\site-packages\\numpy\\core\\arrayprint.py:1592\u001b[0m, in \u001b[0;36m_array_str_implementation\u001b[1;34m(a, max_line_width, precision, suppress_small, array2string)\u001b[0m\n\u001b[0;32m   1586\u001b[0m \u001b[38;5;28;01mif\u001b[39;00m a\u001b[38;5;241m.\u001b[39mshape \u001b[38;5;241m==\u001b[39m ():\n\u001b[0;32m   1587\u001b[0m     \u001b[38;5;66;03m# obtain a scalar and call str on it, avoiding problems for subclasses\u001b[39;00m\n\u001b[0;32m   1588\u001b[0m     \u001b[38;5;66;03m# for which indexing with () returns a 0d instead of a scalar by using\u001b[39;00m\n\u001b[0;32m   1589\u001b[0m     \u001b[38;5;66;03m# ndarray's getindex. Also guard against recursive 0d object arrays.\u001b[39;00m\n\u001b[0;32m   1590\u001b[0m     \u001b[38;5;28;01mreturn\u001b[39;00m _guarded_repr_or_str(np\u001b[38;5;241m.\u001b[39mndarray\u001b[38;5;241m.\u001b[39m\u001b[38;5;21m__getitem__\u001b[39m(a, ()))\n\u001b[1;32m-> 1592\u001b[0m \u001b[38;5;28;01mreturn\u001b[39;00m \u001b[43marray2string\u001b[49m\u001b[43m(\u001b[49m\u001b[43ma\u001b[49m\u001b[43m,\u001b[49m\u001b[43m \u001b[49m\u001b[43mmax_line_width\u001b[49m\u001b[43m,\u001b[49m\u001b[43m \u001b[49m\u001b[43mprecision\u001b[49m\u001b[43m,\u001b[49m\u001b[43m \u001b[49m\u001b[43msuppress_small\u001b[49m\u001b[43m,\u001b[49m\u001b[43m \u001b[49m\u001b[38;5;124;43m'\u001b[39;49m\u001b[38;5;124;43m \u001b[39;49m\u001b[38;5;124;43m'\u001b[39;49m\u001b[43m,\u001b[49m\u001b[43m \u001b[49m\u001b[38;5;124;43m\"\u001b[39;49m\u001b[38;5;124;43m\"\u001b[39;49m\u001b[43m)\u001b[49m\n",
            "File \u001b[1;32m~\\AppData\\Roaming\\Python\\Python39\\site-packages\\numpy\\core\\arrayprint.py:736\u001b[0m, in \u001b[0;36marray2string\u001b[1;34m(a, max_line_width, precision, suppress_small, separator, prefix, style, formatter, threshold, edgeitems, sign, floatmode, suffix, legacy)\u001b[0m\n\u001b[0;32m    733\u001b[0m \u001b[38;5;28;01mif\u001b[39;00m a\u001b[38;5;241m.\u001b[39msize \u001b[38;5;241m==\u001b[39m \u001b[38;5;241m0\u001b[39m:\n\u001b[0;32m    734\u001b[0m     \u001b[38;5;28;01mreturn\u001b[39;00m \u001b[38;5;124m\"\u001b[39m\u001b[38;5;124m[]\u001b[39m\u001b[38;5;124m\"\u001b[39m\n\u001b[1;32m--> 736\u001b[0m \u001b[38;5;28;01mreturn\u001b[39;00m \u001b[43m_array2string\u001b[49m\u001b[43m(\u001b[49m\u001b[43ma\u001b[49m\u001b[43m,\u001b[49m\u001b[43m \u001b[49m\u001b[43moptions\u001b[49m\u001b[43m,\u001b[49m\u001b[43m \u001b[49m\u001b[43mseparator\u001b[49m\u001b[43m,\u001b[49m\u001b[43m \u001b[49m\u001b[43mprefix\u001b[49m\u001b[43m)\u001b[49m\n",
            "File \u001b[1;32m~\\AppData\\Roaming\\Python\\Python39\\site-packages\\numpy\\core\\arrayprint.py:513\u001b[0m, in \u001b[0;36m_recursive_guard.<locals>.decorating_function.<locals>.wrapper\u001b[1;34m(self, *args, **kwargs)\u001b[0m\n\u001b[0;32m    511\u001b[0m repr_running\u001b[38;5;241m.\u001b[39madd(key)\n\u001b[0;32m    512\u001b[0m \u001b[38;5;28;01mtry\u001b[39;00m:\n\u001b[1;32m--> 513\u001b[0m     \u001b[38;5;28;01mreturn\u001b[39;00m f(\u001b[38;5;28mself\u001b[39m, \u001b[38;5;241m*\u001b[39margs, \u001b[38;5;241m*\u001b[39m\u001b[38;5;241m*\u001b[39mkwargs)\n\u001b[0;32m    514\u001b[0m \u001b[38;5;28;01mfinally\u001b[39;00m:\n\u001b[0;32m    515\u001b[0m     repr_running\u001b[38;5;241m.\u001b[39mdiscard(key)\n",
            "File \u001b[1;32m~\\AppData\\Roaming\\Python\\Python39\\site-packages\\numpy\\core\\arrayprint.py:539\u001b[0m, in \u001b[0;36m_array2string\u001b[1;34m(a, options, separator, prefix)\u001b[0m\n\u001b[0;32m    536\u001b[0m     summary_insert \u001b[38;5;241m=\u001b[39m \u001b[38;5;124m\"\u001b[39m\u001b[38;5;124m\"\u001b[39m\n\u001b[0;32m    538\u001b[0m \u001b[38;5;66;03m# find the right formatting function for the array\u001b[39;00m\n\u001b[1;32m--> 539\u001b[0m format_function \u001b[38;5;241m=\u001b[39m _get_format_function(data, \u001b[38;5;241m*\u001b[39m\u001b[38;5;241m*\u001b[39moptions)\n\u001b[0;32m    541\u001b[0m \u001b[38;5;66;03m# skip over \"[\"\u001b[39;00m\n\u001b[0;32m    542\u001b[0m next_line_prefix \u001b[38;5;241m=\u001b[39m \u001b[38;5;124m\"\u001b[39m\u001b[38;5;124m \u001b[39m\u001b[38;5;124m\"\u001b[39m\n",
            "File \u001b[1;32m~\\AppData\\Roaming\\Python\\Python39\\site-packages\\numpy\\core\\arrayprint.py:472\u001b[0m, in \u001b[0;36m_get_format_function\u001b[1;34m(data, **options)\u001b[0m\n\u001b[0;32m    470\u001b[0m         \u001b[38;5;28;01mreturn\u001b[39;00m formatdict[\u001b[38;5;124m'\u001b[39m\u001b[38;5;124mlongfloat\u001b[39m\u001b[38;5;124m'\u001b[39m]()\n\u001b[0;32m    471\u001b[0m     \u001b[38;5;28;01melse\u001b[39;00m:\n\u001b[1;32m--> 472\u001b[0m         \u001b[38;5;28;01mreturn\u001b[39;00m \u001b[43mformatdict\u001b[49m\u001b[43m[\u001b[49m\u001b[38;5;124;43m'\u001b[39;49m\u001b[38;5;124;43mfloat\u001b[39;49m\u001b[38;5;124;43m'\u001b[39;49m\u001b[43m]\u001b[49m\u001b[43m(\u001b[49m\u001b[43m)\u001b[49m\n\u001b[0;32m    473\u001b[0m \u001b[38;5;28;01melif\u001b[39;00m \u001b[38;5;28missubclass\u001b[39m(dtypeobj, _nt\u001b[38;5;241m.\u001b[39mcomplexfloating):\n\u001b[0;32m    474\u001b[0m     \u001b[38;5;28;01mif\u001b[39;00m \u001b[38;5;28missubclass\u001b[39m(dtypeobj, _nt\u001b[38;5;241m.\u001b[39mclongfloat):\n",
            "File \u001b[1;32m~\\AppData\\Roaming\\Python\\Python39\\site-packages\\numpy\\core\\arrayprint.py:411\u001b[0m, in \u001b[0;36m_get_formatdict.<locals>.<lambda>\u001b[1;34m()\u001b[0m\n\u001b[0;32m    403\u001b[0m \u001b[38;5;28;01mdef\u001b[39;00m \u001b[38;5;21m_get_formatdict\u001b[39m(data, \u001b[38;5;241m*\u001b[39m, precision, floatmode, suppress, sign, legacy,\n\u001b[0;32m    404\u001b[0m                     formatter, \u001b[38;5;241m*\u001b[39m\u001b[38;5;241m*\u001b[39mkwargs):\n\u001b[0;32m    405\u001b[0m     \u001b[38;5;66;03m# note: extra arguments in kwargs are ignored\u001b[39;00m\n\u001b[0;32m    406\u001b[0m \n\u001b[0;32m    407\u001b[0m     \u001b[38;5;66;03m# wrapped in lambdas to avoid taking a code path with the wrong type of data\u001b[39;00m\n\u001b[0;32m    408\u001b[0m     formatdict \u001b[38;5;241m=\u001b[39m {\n\u001b[0;32m    409\u001b[0m         \u001b[38;5;124m'\u001b[39m\u001b[38;5;124mbool\u001b[39m\u001b[38;5;124m'\u001b[39m: \u001b[38;5;28;01mlambda\u001b[39;00m: BoolFormat(data),\n\u001b[0;32m    410\u001b[0m         \u001b[38;5;124m'\u001b[39m\u001b[38;5;124mint\u001b[39m\u001b[38;5;124m'\u001b[39m: \u001b[38;5;28;01mlambda\u001b[39;00m: IntegerFormat(data),\n\u001b[1;32m--> 411\u001b[0m         \u001b[38;5;124m'\u001b[39m\u001b[38;5;124mfloat\u001b[39m\u001b[38;5;124m'\u001b[39m: \u001b[38;5;28;01mlambda\u001b[39;00m: \u001b[43mFloatingFormat\u001b[49m\u001b[43m(\u001b[49m\n\u001b[0;32m    412\u001b[0m \u001b[43m            \u001b[49m\u001b[43mdata\u001b[49m\u001b[43m,\u001b[49m\u001b[43m \u001b[49m\u001b[43mprecision\u001b[49m\u001b[43m,\u001b[49m\u001b[43m \u001b[49m\u001b[43mfloatmode\u001b[49m\u001b[43m,\u001b[49m\u001b[43m \u001b[49m\u001b[43msuppress\u001b[49m\u001b[43m,\u001b[49m\u001b[43m \u001b[49m\u001b[43msign\u001b[49m\u001b[43m,\u001b[49m\u001b[43m \u001b[49m\u001b[43mlegacy\u001b[49m\u001b[38;5;241;43m=\u001b[39;49m\u001b[43mlegacy\u001b[49m\u001b[43m)\u001b[49m,\n\u001b[0;32m    413\u001b[0m         \u001b[38;5;124m'\u001b[39m\u001b[38;5;124mlongfloat\u001b[39m\u001b[38;5;124m'\u001b[39m: \u001b[38;5;28;01mlambda\u001b[39;00m: FloatingFormat(\n\u001b[0;32m    414\u001b[0m             data, precision, floatmode, suppress, sign, legacy\u001b[38;5;241m=\u001b[39mlegacy),\n\u001b[0;32m    415\u001b[0m         \u001b[38;5;124m'\u001b[39m\u001b[38;5;124mcomplexfloat\u001b[39m\u001b[38;5;124m'\u001b[39m: \u001b[38;5;28;01mlambda\u001b[39;00m: ComplexFloatingFormat(\n\u001b[0;32m    416\u001b[0m             data, precision, floatmode, suppress, sign, legacy\u001b[38;5;241m=\u001b[39mlegacy),\n\u001b[0;32m    417\u001b[0m         \u001b[38;5;124m'\u001b[39m\u001b[38;5;124mlongcomplexfloat\u001b[39m\u001b[38;5;124m'\u001b[39m: \u001b[38;5;28;01mlambda\u001b[39;00m: ComplexFloatingFormat(\n\u001b[0;32m    418\u001b[0m             data, precision, floatmode, suppress, sign, legacy\u001b[38;5;241m=\u001b[39mlegacy),\n\u001b[0;32m    419\u001b[0m         \u001b[38;5;124m'\u001b[39m\u001b[38;5;124mdatetime\u001b[39m\u001b[38;5;124m'\u001b[39m: \u001b[38;5;28;01mlambda\u001b[39;00m: DatetimeFormat(data, legacy\u001b[38;5;241m=\u001b[39mlegacy),\n\u001b[0;32m    420\u001b[0m         \u001b[38;5;124m'\u001b[39m\u001b[38;5;124mtimedelta\u001b[39m\u001b[38;5;124m'\u001b[39m: \u001b[38;5;28;01mlambda\u001b[39;00m: TimedeltaFormat(data),\n\u001b[0;32m    421\u001b[0m         \u001b[38;5;124m'\u001b[39m\u001b[38;5;124mobject\u001b[39m\u001b[38;5;124m'\u001b[39m: \u001b[38;5;28;01mlambda\u001b[39;00m: _object_format,\n\u001b[0;32m    422\u001b[0m         \u001b[38;5;124m'\u001b[39m\u001b[38;5;124mvoid\u001b[39m\u001b[38;5;124m'\u001b[39m: \u001b[38;5;28;01mlambda\u001b[39;00m: str_format,\n\u001b[0;32m    423\u001b[0m         \u001b[38;5;124m'\u001b[39m\u001b[38;5;124mnumpystr\u001b[39m\u001b[38;5;124m'\u001b[39m: \u001b[38;5;28;01mlambda\u001b[39;00m: repr_format}\n\u001b[0;32m    425\u001b[0m     \u001b[38;5;66;03m# we need to wrap values in `formatter` in a lambda, so that the interface\u001b[39;00m\n\u001b[0;32m    426\u001b[0m     \u001b[38;5;66;03m# is the same as the above values.\u001b[39;00m\n\u001b[0;32m    427\u001b[0m     \u001b[38;5;28;01mdef\u001b[39;00m \u001b[38;5;21mindirect\u001b[39m(x):\n",
            "File \u001b[1;32m~\\AppData\\Roaming\\Python\\Python39\\site-packages\\numpy\\core\\arrayprint.py:932\u001b[0m, in \u001b[0;36mFloatingFormat.__init__\u001b[1;34m(self, data, precision, floatmode, suppress_small, sign, legacy)\u001b[0m\n\u001b[0;32m    929\u001b[0m \u001b[38;5;28mself\u001b[39m\u001b[38;5;241m.\u001b[39mexp_format \u001b[38;5;241m=\u001b[39m \u001b[38;5;28;01mFalse\u001b[39;00m\n\u001b[0;32m    930\u001b[0m \u001b[38;5;28mself\u001b[39m\u001b[38;5;241m.\u001b[39mlarge_exponent \u001b[38;5;241m=\u001b[39m \u001b[38;5;28;01mFalse\u001b[39;00m\n\u001b[1;32m--> 932\u001b[0m \u001b[38;5;28;43mself\u001b[39;49m\u001b[38;5;241;43m.\u001b[39;49m\u001b[43mfillFormat\u001b[49m\u001b[43m(\u001b[49m\u001b[43mdata\u001b[49m\u001b[43m)\u001b[49m\n",
            "File \u001b[1;32m~\\AppData\\Roaming\\Python\\Python39\\site-packages\\numpy\\core\\arrayprint.py:936\u001b[0m, in \u001b[0;36mFloatingFormat.fillFormat\u001b[1;34m(self, data)\u001b[0m\n\u001b[0;32m    934\u001b[0m \u001b[38;5;28;01mdef\u001b[39;00m \u001b[38;5;21mfillFormat\u001b[39m(\u001b[38;5;28mself\u001b[39m, data):\n\u001b[0;32m    935\u001b[0m     \u001b[38;5;66;03m# only the finite values are used to compute the number of digits\u001b[39;00m\n\u001b[1;32m--> 936\u001b[0m     finite_vals \u001b[38;5;241m=\u001b[39m \u001b[43mdata\u001b[49m\u001b[43m[\u001b[49m\u001b[43misfinite\u001b[49m\u001b[43m(\u001b[49m\u001b[43mdata\u001b[49m\u001b[43m)\u001b[49m\u001b[43m]\u001b[49m\n\u001b[0;32m    938\u001b[0m     \u001b[38;5;66;03m# choose exponential mode based on the non-zero finite values:\u001b[39;00m\n\u001b[0;32m    939\u001b[0m     abs_non_zero \u001b[38;5;241m=\u001b[39m absolute(finite_vals[finite_vals \u001b[38;5;241m!=\u001b[39m \u001b[38;5;241m0\u001b[39m])\n",
            "\u001b[1;31mKeyboardInterrupt\u001b[0m: "
          ]
        }
      ],
      "source": [
        "# save df\n",
        "df.to_csv(\"wikipedia_dataset_cleaned.csv\", index=False)"
      ]
    }
  ],
  "metadata": {
    "colab": {
      "provenance": []
    },
    "kernelspec": {
      "display_name": "base",
      "language": "python",
      "name": "python3"
    },
    "language_info": {
      "codemirror_mode": {
        "name": "ipython",
        "version": 3
      },
      "file_extension": ".py",
      "mimetype": "text/x-python",
      "name": "python",
      "nbconvert_exporter": "python",
      "pygments_lexer": "ipython3",
      "version": "3.9.12"
    }
  },
  "nbformat": 4,
  "nbformat_minor": 0
}
